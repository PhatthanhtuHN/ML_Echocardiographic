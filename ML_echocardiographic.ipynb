{
  "nbformat": 4,
  "nbformat_minor": 0,
  "metadata": {
    "colab": {
      "name": "ML_echocardiographic.ipynb",
      "provenance": [],
      "collapsed_sections": [],
      "include_colab_link": true
    },
    "kernelspec": {
      "name": "python3",
      "display_name": "Python 3"
    },
    "language_info": {
      "name": "python"
    },
    "accelerator": "GPU"
  },
  "cells": [
    {
      "cell_type": "markdown",
      "metadata": {
        "id": "view-in-github",
        "colab_type": "text"
      },
      "source": [
        "<a href=\"https://colab.research.google.com/github/PhatthanhtuHN/ML_Echocardiographic/blob/main/ML_echocardiographic.ipynb\" target=\"_parent\"><img src=\"https://colab.research.google.com/assets/colab-badge.svg\" alt=\"Open In Colab\"/></a>"
      ]
    },
    {
      "cell_type": "code",
      "metadata": {
        "id": "_rt_yvilY_rF"
      },
      "source": [
        "import torch\n",
        "from torch import nn\n",
        "\n",
        "from torch.utils.data import DataLoader\n",
        "\n",
        "from torchvision import transforms\n",
        "import torchvision\n",
        "\n",
        "import numpy as np\n",
        "import cv2\n",
        "\n",
        "from torchsummary import summary\n",
        "\n",
        "from collections import  namedtuple\n",
        "\n",
        "import matplotlib.pyplot as plt\n",
        "\n",
        "from google.colab import drive\n",
        "\n",
        "from sklearn.metrics import classification_report"
      ],
      "execution_count": null,
      "outputs": []
    },
    {
      "cell_type": "code",
      "metadata": {
        "colab": {
          "base_uri": "https://localhost:8080/"
        },
        "id": "z_Jz6Kiuc4to",
        "outputId": "ddcde867-1d65-488d-8436-cdc8e0014154"
      },
      "source": [
        "drive.mount('/content/drive')\n",
        "\n",
        "# Đặt đường dẫn cho thư mục train và test từ dữ liệu Drive đã được kết nối \n",
        "train_dir = '/content/drive/MyDrive/Colab Notebooks/DATA_CHAMBER_2021/train'\n",
        "test_dir = '/content/drive/MyDrive/Colab Notebooks/DATA_CHAMBER_2021/test'"
      ],
      "execution_count": null,
      "outputs": [
        {
          "output_type": "stream",
          "name": "stdout",
          "text": [
            "Drive already mounted at /content/drive; to attempt to forcibly remount, call drive.mount(\"/content/drive\", force_remount=True).\n"
          ]
        }
      ]
    },
    {
      "cell_type": "code",
      "metadata": {
        "id": "DstH-A1zZ0AA"
      },
      "source": [
        "# Hàm get_classes() trả về ba lớp 2C, 3C, 4C tương ứng với ba loại mặt cắt của ảnh siêu âm tim\n",
        "def get_classes():\n",
        "  classes = ['2C', '3C', '4C']\n",
        "  return classes\n",
        "\n",
        "TrainTest = namedtuple('TrainTest', ['train', 'test'])\n",
        "img_size_default = 224\n",
        "img_size_medium = 64\n",
        "img_size_small = 32\n",
        "# Hàm chuẩn bị dữ liệu\n",
        "def prepare_data(img_size):\n",
        "  # Hàm transform chuẩn hóa ảnh về kích thước 224 x 224 và chuyển thành Tensor là một mảng nhiều chiều\n",
        "  transforms_train = transforms.Compose([\n",
        "    transforms.Resize((img_size, img_size)),  \n",
        "    transforms.ToTensor(), \n",
        "    transforms.Normalize(mean=[0.485, 0.456, 0.406],\n",
        "                     std=[0.229, 0.224, 0.225]) \n",
        "  ])\n",
        "  transforms_train_augmentation = transforms.Compose([\n",
        "      transforms.Resize((img_size, img_size)),\n",
        "      transforms.RandomHorizontalFlip(),\n",
        "      transforms.RandomVerticalFlip(),\n",
        "      transforms.RandomRotation(degrees=10),\n",
        "      transforms.ToTensor(), \n",
        "      transforms.Normalize(mean=[0.485, 0.456, 0.406],\n",
        "                     std=[0.229, 0.224, 0.225])    \n",
        "  ])\n",
        "  transforms_train_preprocess = transforms.Compose([\n",
        "      transforms.Resize((img_size, img_size)),\n",
        "      transforms.RandomEqualize(p=0.5),\n",
        "      transforms.RandomAutocontrast(p=0.5),\n",
        "      transforms.GaussianBlur(kernel_size=3, sigma=(0.1, 3)),\n",
        "      transforms.ColorJitter(brightness=[1, 1.5], contrast=[1, 1.5]),\n",
        "      transforms.ToTensor(), \n",
        "      transforms.Normalize(mean=[0.485, 0.456, 0.406],\n",
        "                     std=[0.229, 0.224, 0.225]) \n",
        "  ])\n",
        "  transforms_test = transforms.Compose([\n",
        "    transforms.Resize((img_size, img_size)), \n",
        "    transforms.ToTensor(), \n",
        "    transforms.Normalize(mean=[0.485, 0.456, 0.406],\n",
        "                     std=[0.229, 0.224, 0.225]) \n",
        "  ])\n",
        "  # Chuẩn bị 2 bộ dữ liệu trainset và testset với đường dẫn như trên, gán nhãn cho ảnh theo tên thư mục và trả về bộ giá trị (tuple) TrainTest gồm hai bộ dữ liệu này\n",
        "  trainset = torchvision.datasets.ImageFolder(root=train_dir, transform=transforms_train)\n",
        "  # trainset = torchvision.datasets.ImageFolder(root=train_dir, transform=transforms_train_augmentation)\n",
        "  trainset = torchvision.datasets.ImageFolder(root=train_dir, transform=transforms_train_preprocess)\n",
        "  testset = torchvision.datasets.ImageFolder(root=test_dir, transform=transforms_test)\n",
        "  print('Number of images in train:', len(trainset), '\\nNumber of images in test:', len(testset))\n",
        "  print('Index of classes:', trainset.class_to_idx)\n",
        "  print('Type:', type(trainset[0][0]), '| size: ', trainset[0][0].shape)\n",
        "  return TrainTest(train=trainset, test=testset)\n",
        "\n",
        "# Hàm đọc bộ dữ liệu, mỗi lần lấy ra 1 batch có độ dài là 32 ảnh đế xử lý song song, nối thành tensor 4 chiều là đầu vào của mạng\n",
        "def prepare_loader(datasets):\n",
        "  trainloader = DataLoader(dataset=datasets.train, batch_size=32, shuffle=True, num_workers=4)\n",
        "  testloader = DataLoader(dataset=datasets.test, batch_size=32, shuffle=False, num_workers=4)\n",
        "  print('Number of batchs in train:', len(trainloader), '\\nNumber of batchs in test:', len(testloader))\n",
        "  return TrainTest(train=trainloader, test=testloader)\n",
        "\n",
        "# Dựng mô hình mạng tích chập VGG19\n",
        "class VGG19(nn.Module):\n",
        "  def __init__(self):\n",
        "    super().__init__()\n",
        "    self.features = self._make_features()\n",
        "    self.classification_head = nn.Linear(in_features=2048, out_features=3) #7x7x512 với img_size = 224\n",
        "\n",
        "  def forward(self, x):\n",
        "    out = self.features(x)\n",
        "    out = out.view(out.size(0), -1)\n",
        "    out = self.classification_head(out)\n",
        "    return out\n",
        "\n",
        "  def _make_features(self):\n",
        "    config = [64, 64, 'MP', 128, 128, 'MP', 256, 256, 256, 256, 'MP', 512, 512, 512, 512, 'MP', 512, 512, 512, 512, 'MP']\n",
        "    layer = []\n",
        "    c_in = 3\n",
        "    for c in config:\n",
        "      if c == 'MP':\n",
        "        layer += [nn.MaxPool2d(kernel_size=2, stride=2)]\n",
        "      else:\n",
        "        layer += [nn.Conv2d(in_channels=c_in, out_channels=c, kernel_size=3, stride=1, padding=1), \n",
        "                  nn.BatchNorm2d(num_features=c), \n",
        "                  nn.ReLU6(inplace=True)]\n",
        "        c_in = c\n",
        "    return nn.Sequential(*layer)\n"
      ],
      "execution_count": null,
      "outputs": []
    },
    {
      "cell_type": "code",
      "metadata": {
        "id": "I-t8F9oB2-Rr",
        "colab": {
          "base_uri": "https://localhost:8080/",
          "height": 390
        },
        "outputId": "952fd716-de7b-4391-8213-accc1b7b7d4b"
      },
      "source": [
        "def imshow(images, labels, predicted, target_names):\n",
        "  img = torchvision.utils.make_grid(images)\n",
        "  plt.imshow(img.permute(1, 2, 0).cpu().numpy())\n",
        "  [print(target_names[c], end=' ') for c in list(labels.cpu().numpy())]\n",
        "  print()\n",
        "  [print(target_names[c], end=' ') for c in list(predicted.cpu().numpy())]\n",
        "  print()\n",
        "  # print(target_names[list(labels.cpu().numpy())])\n",
        "  # print(target_names[list(predicted.cpu().numpy())])\n",
        "\n",
        "  # def imshow(img):\n",
        "  #   img = img / 2 + 0.5     # unnormalize\n",
        "  #   npimg = img.numpy()\n",
        "  #   plt.imshow(np.transpose(npimg, (1, 2, 0)))\n",
        "  #   plt.show()\n",
        "def test():\n",
        "  classes = get_classes()\n",
        "  datasets = prepare_data(img_size=img_size_medium)\n",
        "\n",
        "  img, label = datasets.train[0]\n",
        "  print(classes[label], img.size)\n",
        "  print('Number of images in train', len(datasets.train), 'Number of images in test', len(datasets.test))\n",
        "  plt.imshow(img.permute(1, 2, 0))\n",
        "\n",
        "test()"
      ],
      "execution_count": null,
      "outputs": [
        {
          "output_type": "stream",
          "name": "stderr",
          "text": [
            "Clipping input data to the valid range for imshow with RGB data ([0..1] for floats or [0..255] for integers).\n"
          ]
        },
        {
          "output_type": "stream",
          "name": "stdout",
          "text": [
            "Number of images in train: 6717 \n",
            "Number of images in test: 1607\n",
            "Index of classes: {'2C': 0, '3C': 1, '4C': 2}\n",
            "Type: <class 'torch.Tensor'> | size:  torch.Size([3, 64, 64])\n",
            "2C <built-in method size of Tensor object at 0x7efb1a7e94d0>\n",
            "Number of images in train 6717 Number of images in test 1607\n"
          ]
        },
        {
          "output_type": "display_data",
          "data": {
            "image/png": "[encoded data removed]",
            "text/plain": [
              "<Figure size 432x288 with 1 Axes>"
            ]
          },
          "metadata": {
            "needs_background": "light"
          }
        }
      ]
    },
    {
      "cell_type": "code",
      "metadata": {
        "id": "9hP7rl_OAD_9"
      },
      "source": [
        "# Hàm train với mỗi batch trong bộ dữ liệu\n",
        "def train_epoch(epoch, model, loader, loss_func, optimizer, device):\n",
        "  # Cho ảnh (đã được chia thành batch trong loader) lần lượt đi qua model, với mỗi ảnh và nhãn trong bộ dữ liệu là đầu vào của mạng.\n",
        "  model.train()             \n",
        "  running_loss = 0.0\n",
        "  reporting_steps = 30\n",
        "  for i, (images, labels) in enumerate(loader):\n",
        "    images, labels = images.to(device), labels.to(device)\n",
        "    outputs = model(images)\n",
        "    # print('Type:', type(outputs), '\\nOutput shape:', outputs.size())      # Type: <class 'torch.Tensor'> Output shape: torch.Size([32, 3]), với img_size = 224\n",
        "    loss = loss_func(outputs, labels)\n",
        "\n",
        "    # Cập nhật tham số trước khi sang step khác\n",
        "    optimizer.zero_grad()\n",
        "    loss.backward()\n",
        "    optimizer.step()\n",
        "\n",
        "    running_loss += loss.item()\n",
        "    # Báo cáo sau reporting_step bước\n",
        "    if i % reporting_steps == reporting_steps-1:\n",
        "      print(f'Epoch {epoch} step {i} ave_loss {running_loss/reporting_steps:.4f}')\n",
        "      running_loss = 0.0\n",
        "\n",
        "# Hàm test \n",
        "def test_epoch(epoch, model, loader, device):\n",
        "  ytrue =[]\n",
        "  ypred = []\n",
        "  # Đặt model ở chế độ đánh giá (evaluate)\n",
        "  with torch.no_grad():\n",
        "    model.eval()\n",
        "    \n",
        "    # Tính toán đầu ra cho từng ảnh, với nhãn dự đoán dựa trên số to nhất trong outputs\n",
        "    for i, (images, labels) in enumerate(loader):\n",
        "      images, labels = images.to(device), labels.to(device)\n",
        "      outputs = model(images)\n",
        "      _, predicted = torch.max(outputs, dim=1)\n",
        "      \n",
        "      ytrue += list(labels.cpu().numpy())\n",
        "      ypred += list(predicted.cpu().numpy())\n",
        "      \n",
        "  return ytrue, ypred   # Trả về nhãn thực, nhãn dự đoán của ảnh\n"
      ],
      "execution_count": null,
      "outputs": []
    },
    {
      "cell_type": "code",
      "metadata": {
        "id": "ZjtdL_WqqFLL"
      },
      "source": [
        "def main(model_name=None):\n",
        "  PATH = './' + model_name + '.pth'\n",
        "  classes = get_classes()\n",
        "  datasets = prepare_data(img_size=img_size_medium)\n",
        "\n",
        "  # img, label = datasets.train[0]\n",
        "  # print(classes[label], img.size)\n",
        "  # print('Number of images in train', len(datasets.train), 'Number of images in test', len(datasets.test))\n",
        "  # plt.imshow(img)\n",
        "  loaders = prepare_loader(datasets)\n",
        "  # images, labels = iter(loaders.train).next()\n",
        "  # print(images.shape, labels.shape)\n",
        "\n",
        "  device = torch.device('cuda:0' if torch.cuda.is_available() else 'cpu')\n",
        "  \n",
        "  if model_name == 'vgg19':\n",
        "    model = VGG19()\n",
        "  elif model_name == 'resnet50':\n",
        "    model = torch.hub.load('pytorch/vision:v0.10.0', 'resnet50', pretrained=False)\n",
        "    model.fc = torch.nn.modules.linear.Linear(in_features=2048, out_features=3, bias=True)\n",
        "  elif model_name == 'densenet121':\n",
        "    model = torch.hub.load('pytorch/vision:v0.10.0', 'densenet121', pretrained=False)\n",
        "    model.classifier = torch.nn.modules.linear.Linear(in_features=1024, out_features=3, bias=True)\n",
        "  else:\n",
        "    pass\n",
        "  # summary(model.cuda(), (3, 224, 224))\n",
        "  # images, labels = iter(loaders.train).next()\n",
        "  # # print(model)\n",
        "  # outputs = model(images)\n",
        "  # print(outputs.shape)\n",
        "  # print(outputs[0])\n",
        "  # _, predicted = torch.max(outputs, dim=1)\n",
        "  # print(predicted)\n",
        "  # imshow(images, labels, predicted, classes)\n",
        "  print('Model name: ', model_name)\n",
        "  model.to(device=device)\n",
        "  loss_func = nn.CrossEntropyLoss()\n",
        "  optimizer = torch.optim.SGD(model.parameters(), lr=0.01, momentum=0.9, weight_decay=5e-4)\n",
        "  for epoch in range(20):\n",
        "    train_epoch(epoch, model, loaders.train, loss_func, optimizer, device)\n",
        "    ytrue, ypred = test_epoch(epoch, model, loaders.test, device)\n",
        "    print(classification_report(ytrue, ypred, target_names=classes))\n"
      ],
      "execution_count": null,
      "outputs": []
    },
    {
      "cell_type": "code",
      "metadata": {
        "colab": {
          "base_uri": "https://localhost:8080/"
        },
        "id": "D40XJWwCFJSw",
        "outputId": "d4ffe30f-8ece-40ce-d6e6-683fc214b448"
      },
      "source": [
        "allmodels = ['vgg19', 'resnet50', 'densenet121']\n",
        "for model in allmodels:\n",
        "  main(model_name=model)\n"
      ],
      "execution_count": null,
      "outputs": [
        {
          "output_type": "stream",
          "name": "stdout",
          "text": [
            "Number of images in train: 6717 \n",
            "Number of images in test: 1607\n",
            "Index of classes: {'2C': 0, '3C': 1, '4C': 2}\n",
            "Type: <class 'torch.Tensor'> | size:  torch.Size([3, 64, 64])\n",
            "Number of batchs in train: 210 \n",
            "Number of batchs in test: 51\n"
          ]
        },
        {
          "output_type": "stream",
          "name": "stderr",
          "text": [
            "/usr/local/lib/python3.7/dist-packages/torch/utils/data/dataloader.py:481: UserWarning: This DataLoader will create 4 worker processes in total. Our suggested max number of worker in current system is 2, which is smaller than what this DataLoader is going to create. Please be aware that excessive worker creation might get DataLoader running slow or even freeze, lower the worker number to avoid potential slowness/freeze if necessary.\n",
            "  cpuset_checked))\n"
          ]
        },
        {
          "output_type": "stream",
          "name": "stdout",
          "text": [
            "Model name:  vgg19\n",
            "Epoch 0 step 29 ave_loss 4.2808\n",
            "Epoch 0 step 59 ave_loss 3.7988\n",
            "Epoch 0 step 89 ave_loss 2.3862\n",
            "Epoch 0 step 119 ave_loss 1.6521\n",
            "Epoch 0 step 149 ave_loss 1.9296\n",
            "Epoch 0 step 179 ave_loss 1.5870\n",
            "Epoch 0 step 209 ave_loss 2.0012\n",
            "              precision    recall  f1-score   support\n",
            "\n",
            "          2C       0.20      0.48      0.28       409\n",
            "          3C       0.22      0.37      0.27       367\n",
            "          4C       0.00      0.00      0.00       831\n",
            "\n",
            "    accuracy                           0.20      1607\n",
            "   macro avg       0.14      0.28      0.18      1607\n",
            "weighted avg       0.10      0.20      0.13      1607\n",
            "\n"
          ]
        },
        {
          "output_type": "stream",
          "name": "stderr",
          "text": [
            "/usr/local/lib/python3.7/dist-packages/sklearn/metrics/_classification.py:1308: UndefinedMetricWarning: Precision and F-score are ill-defined and being set to 0.0 in labels with no predicted samples. Use `zero_division` parameter to control this behavior.\n",
            "  _warn_prf(average, modifier, msg_start, len(result))\n",
            "/usr/local/lib/python3.7/dist-packages/sklearn/metrics/_classification.py:1308: UndefinedMetricWarning: Precision and F-score are ill-defined and being set to 0.0 in labels with no predicted samples. Use `zero_division` parameter to control this behavior.\n",
            "  _warn_prf(average, modifier, msg_start, len(result))\n",
            "/usr/local/lib/python3.7/dist-packages/sklearn/metrics/_classification.py:1308: UndefinedMetricWarning: Precision and F-score are ill-defined and being set to 0.0 in labels with no predicted samples. Use `zero_division` parameter to control this behavior.\n",
            "  _warn_prf(average, modifier, msg_start, len(result))\n",
            "/usr/local/lib/python3.7/dist-packages/torch/utils/data/dataloader.py:481: UserWarning: This DataLoader will create 4 worker processes in total. Our suggested max number of worker in current system is 2, which is smaller than what this DataLoader is going to create. Please be aware that excessive worker creation might get DataLoader running slow or even freeze, lower the worker number to avoid potential slowness/freeze if necessary.\n",
            "  cpuset_checked))\n"
          ]
        },
        {
          "output_type": "stream",
          "name": "stdout",
          "text": [
            "Epoch 1 step 29 ave_loss 1.5147\n",
            "Epoch 1 step 59 ave_loss 1.4334\n",
            "Epoch 1 step 89 ave_loss 1.6121\n",
            "Epoch 1 step 119 ave_loss 1.8834\n",
            "Epoch 1 step 149 ave_loss 1.3309\n",
            "Epoch 1 step 179 ave_loss 1.3528\n",
            "Epoch 1 step 209 ave_loss 1.3719\n",
            "              precision    recall  f1-score   support\n",
            "\n",
            "          2C       0.12      0.03      0.05       409\n",
            "          3C       0.18      0.47      0.26       367\n",
            "          4C       0.54      0.35      0.43       831\n",
            "\n",
            "    accuracy                           0.30      1607\n",
            "   macro avg       0.28      0.28      0.24      1607\n",
            "weighted avg       0.35      0.30      0.29      1607\n",
            "\n"
          ]
        },
        {
          "output_type": "stream",
          "name": "stderr",
          "text": [
            "/usr/local/lib/python3.7/dist-packages/torch/utils/data/dataloader.py:481: UserWarning: This DataLoader will create 4 worker processes in total. Our suggested max number of worker in current system is 2, which is smaller than what this DataLoader is going to create. Please be aware that excessive worker creation might get DataLoader running slow or even freeze, lower the worker number to avoid potential slowness/freeze if necessary.\n",
            "  cpuset_checked))\n"
          ]
        },
        {
          "output_type": "stream",
          "name": "stdout",
          "text": [
            "Epoch 2 step 29 ave_loss 1.3861\n",
            "Epoch 2 step 59 ave_loss 1.3050\n",
            "Epoch 2 step 89 ave_loss 1.2906\n",
            "Epoch 2 step 119 ave_loss 1.4935\n",
            "Epoch 2 step 149 ave_loss 1.2941\n",
            "Epoch 2 step 179 ave_loss 1.3740\n",
            "Epoch 2 step 209 ave_loss 1.1845\n",
            "              precision    recall  f1-score   support\n",
            "\n",
            "          2C       0.00      0.00      0.00       409\n",
            "          3C       0.00      0.00      0.00       367\n",
            "          4C       0.52      1.00      0.68       831\n",
            "\n",
            "    accuracy                           0.52      1607\n",
            "   macro avg       0.17      0.33      0.23      1607\n",
            "weighted avg       0.27      0.52      0.35      1607\n",
            "\n"
          ]
        },
        {
          "output_type": "stream",
          "name": "stderr",
          "text": [
            "/usr/local/lib/python3.7/dist-packages/sklearn/metrics/_classification.py:1308: UndefinedMetricWarning: Precision and F-score are ill-defined and being set to 0.0 in labels with no predicted samples. Use `zero_division` parameter to control this behavior.\n",
            "  _warn_prf(average, modifier, msg_start, len(result))\n",
            "/usr/local/lib/python3.7/dist-packages/sklearn/metrics/_classification.py:1308: UndefinedMetricWarning: Precision and F-score are ill-defined and being set to 0.0 in labels with no predicted samples. Use `zero_division` parameter to control this behavior.\n",
            "  _warn_prf(average, modifier, msg_start, len(result))\n",
            "/usr/local/lib/python3.7/dist-packages/sklearn/metrics/_classification.py:1308: UndefinedMetricWarning: Precision and F-score are ill-defined and being set to 0.0 in labels with no predicted samples. Use `zero_division` parameter to control this behavior.\n",
            "  _warn_prf(average, modifier, msg_start, len(result))\n",
            "/usr/local/lib/python3.7/dist-packages/torch/utils/data/dataloader.py:481: UserWarning: This DataLoader will create 4 worker processes in total. Our suggested max number of worker in current system is 2, which is smaller than what this DataLoader is going to create. Please be aware that excessive worker creation might get DataLoader running slow or even freeze, lower the worker number to avoid potential slowness/freeze if necessary.\n",
            "  cpuset_checked))\n"
          ]
        },
        {
          "output_type": "stream",
          "name": "stdout",
          "text": [
            "Epoch 3 step 29 ave_loss 1.2334\n",
            "Epoch 3 step 59 ave_loss 1.2109\n",
            "Epoch 3 step 89 ave_loss 1.4007\n",
            "Epoch 3 step 119 ave_loss 1.4691\n",
            "Epoch 3 step 149 ave_loss 1.3357\n",
            "Epoch 3 step 179 ave_loss 1.3277\n",
            "Epoch 3 step 209 ave_loss 1.3655\n",
            "              precision    recall  f1-score   support\n",
            "\n",
            "          2C       0.23      0.09      0.13       409\n",
            "          3C       0.24      0.95      0.38       367\n",
            "          4C       0.00      0.00      0.00       831\n",
            "\n",
            "    accuracy                           0.24      1607\n",
            "   macro avg       0.16      0.35      0.17      1607\n",
            "weighted avg       0.11      0.24      0.12      1607\n",
            "\n"
          ]
        },
        {
          "output_type": "stream",
          "name": "stderr",
          "text": [
            "/usr/local/lib/python3.7/dist-packages/sklearn/metrics/_classification.py:1308: UndefinedMetricWarning: Precision and F-score are ill-defined and being set to 0.0 in labels with no predicted samples. Use `zero_division` parameter to control this behavior.\n",
            "  _warn_prf(average, modifier, msg_start, len(result))\n",
            "/usr/local/lib/python3.7/dist-packages/sklearn/metrics/_classification.py:1308: UndefinedMetricWarning: Precision and F-score are ill-defined and being set to 0.0 in labels with no predicted samples. Use `zero_division` parameter to control this behavior.\n",
            "  _warn_prf(average, modifier, msg_start, len(result))\n",
            "/usr/local/lib/python3.7/dist-packages/sklearn/metrics/_classification.py:1308: UndefinedMetricWarning: Precision and F-score are ill-defined and being set to 0.0 in labels with no predicted samples. Use `zero_division` parameter to control this behavior.\n",
            "  _warn_prf(average, modifier, msg_start, len(result))\n",
            "/usr/local/lib/python3.7/dist-packages/torch/utils/data/dataloader.py:481: UserWarning: This DataLoader will create 4 worker processes in total. Our suggested max number of worker in current system is 2, which is smaller than what this DataLoader is going to create. Please be aware that excessive worker creation might get DataLoader running slow or even freeze, lower the worker number to avoid potential slowness/freeze if necessary.\n",
            "  cpuset_checked))\n"
          ]
        },
        {
          "output_type": "stream",
          "name": "stdout",
          "text": [
            "Epoch 4 step 29 ave_loss 1.2087\n",
            "Epoch 4 step 59 ave_loss 1.2961\n",
            "Epoch 4 step 89 ave_loss 1.2132\n",
            "Epoch 4 step 119 ave_loss 1.2407\n",
            "Epoch 4 step 149 ave_loss 1.2114\n",
            "Epoch 4 step 179 ave_loss 1.2191\n",
            "Epoch 4 step 209 ave_loss 1.1749\n",
            "              precision    recall  f1-score   support\n",
            "\n",
            "          2C       0.13      0.10      0.11       409\n",
            "          3C       0.27      0.96      0.42       367\n",
            "          4C       0.00      0.00      0.00       831\n",
            "\n",
            "    accuracy                           0.24      1607\n",
            "   macro avg       0.13      0.35      0.18      1607\n",
            "weighted avg       0.10      0.24      0.12      1607\n",
            "\n"
          ]
        },
        {
          "output_type": "stream",
          "name": "stderr",
          "text": [
            "/usr/local/lib/python3.7/dist-packages/sklearn/metrics/_classification.py:1308: UndefinedMetricWarning: Precision and F-score are ill-defined and being set to 0.0 in labels with no predicted samples. Use `zero_division` parameter to control this behavior.\n",
            "  _warn_prf(average, modifier, msg_start, len(result))\n",
            "/usr/local/lib/python3.7/dist-packages/sklearn/metrics/_classification.py:1308: UndefinedMetricWarning: Precision and F-score are ill-defined and being set to 0.0 in labels with no predicted samples. Use `zero_division` parameter to control this behavior.\n",
            "  _warn_prf(average, modifier, msg_start, len(result))\n",
            "/usr/local/lib/python3.7/dist-packages/sklearn/metrics/_classification.py:1308: UndefinedMetricWarning: Precision and F-score are ill-defined and being set to 0.0 in labels with no predicted samples. Use `zero_division` parameter to control this behavior.\n",
            "  _warn_prf(average, modifier, msg_start, len(result))\n",
            "/usr/local/lib/python3.7/dist-packages/torch/utils/data/dataloader.py:481: UserWarning: This DataLoader will create 4 worker processes in total. Our suggested max number of worker in current system is 2, which is smaller than what this DataLoader is going to create. Please be aware that excessive worker creation might get DataLoader running slow or even freeze, lower the worker number to avoid potential slowness/freeze if necessary.\n",
            "  cpuset_checked))\n"
          ]
        },
        {
          "output_type": "stream",
          "name": "stdout",
          "text": [
            "Epoch 5 step 29 ave_loss 1.1807\n",
            "Epoch 5 step 59 ave_loss 1.2316\n",
            "Epoch 5 step 89 ave_loss 1.2424\n",
            "Epoch 5 step 119 ave_loss 1.2332\n",
            "Epoch 5 step 149 ave_loss 1.1763\n",
            "Epoch 5 step 179 ave_loss 1.1418\n",
            "Epoch 5 step 209 ave_loss 1.1191\n",
            "              precision    recall  f1-score   support\n",
            "\n",
            "          2C       0.11      0.07      0.09       409\n",
            "          3C       0.27      0.83      0.41       367\n",
            "          4C       0.57      0.15      0.23       831\n",
            "\n",
            "    accuracy                           0.29      1607\n",
            "   macro avg       0.32      0.35      0.24      1607\n",
            "weighted avg       0.39      0.29      0.24      1607\n",
            "\n"
          ]
        },
        {
          "output_type": "stream",
          "name": "stderr",
          "text": [
            "/usr/local/lib/python3.7/dist-packages/torch/utils/data/dataloader.py:481: UserWarning: This DataLoader will create 4 worker processes in total. Our suggested max number of worker in current system is 2, which is smaller than what this DataLoader is going to create. Please be aware that excessive worker creation might get DataLoader running slow or even freeze, lower the worker number to avoid potential slowness/freeze if necessary.\n",
            "  cpuset_checked))\n"
          ]
        },
        {
          "output_type": "stream",
          "name": "stdout",
          "text": [
            "Epoch 6 step 29 ave_loss 1.1030\n",
            "Epoch 6 step 59 ave_loss 1.0823\n",
            "Epoch 6 step 89 ave_loss 1.0845\n",
            "Epoch 6 step 119 ave_loss 1.0390\n",
            "Epoch 6 step 149 ave_loss 1.0649\n",
            "Epoch 6 step 179 ave_loss 1.0493\n",
            "Epoch 6 step 209 ave_loss 1.0500\n",
            "              precision    recall  f1-score   support\n",
            "\n",
            "          2C       0.26      0.40      0.32       409\n",
            "          3C       0.43      0.47      0.45       367\n",
            "          4C       0.65      0.46      0.54       831\n",
            "\n",
            "    accuracy                           0.45      1607\n",
            "   macro avg       0.45      0.44      0.44      1607\n",
            "weighted avg       0.50      0.45      0.46      1607\n",
            "\n"
          ]
        },
        {
          "output_type": "stream",
          "name": "stderr",
          "text": [
            "/usr/local/lib/python3.7/dist-packages/torch/utils/data/dataloader.py:481: UserWarning: This DataLoader will create 4 worker processes in total. Our suggested max number of worker in current system is 2, which is smaller than what this DataLoader is going to create. Please be aware that excessive worker creation might get DataLoader running slow or even freeze, lower the worker number to avoid potential slowness/freeze if necessary.\n",
            "  cpuset_checked))\n"
          ]
        },
        {
          "output_type": "stream",
          "name": "stdout",
          "text": [
            "Epoch 7 step 29 ave_loss 1.0236\n",
            "Epoch 7 step 59 ave_loss 1.0217\n",
            "Epoch 7 step 89 ave_loss 1.0286\n",
            "Epoch 7 step 119 ave_loss 0.9992\n",
            "Epoch 7 step 149 ave_loss 0.9678\n",
            "Epoch 7 step 179 ave_loss 0.9253\n",
            "Epoch 7 step 209 ave_loss 0.9288\n",
            "              precision    recall  f1-score   support\n",
            "\n",
            "          2C       0.20      0.32      0.24       409\n",
            "          3C       0.43      0.72      0.54       367\n",
            "          4C       0.81      0.32      0.46       831\n",
            "\n",
            "    accuracy                           0.41      1607\n",
            "   macro avg       0.48      0.45      0.41      1607\n",
            "weighted avg       0.57      0.41      0.42      1607\n",
            "\n"
          ]
        },
        {
          "output_type": "stream",
          "name": "stderr",
          "text": [
            "/usr/local/lib/python3.7/dist-packages/torch/utils/data/dataloader.py:481: UserWarning: This DataLoader will create 4 worker processes in total. Our suggested max number of worker in current system is 2, which is smaller than what this DataLoader is going to create. Please be aware that excessive worker creation might get DataLoader running slow or even freeze, lower the worker number to avoid potential slowness/freeze if necessary.\n",
            "  cpuset_checked))\n"
          ]
        },
        {
          "output_type": "stream",
          "name": "stdout",
          "text": [
            "Epoch 8 step 29 ave_loss 0.8991\n",
            "Epoch 8 step 59 ave_loss 0.9411\n",
            "Epoch 8 step 89 ave_loss 0.8191\n",
            "Epoch 8 step 119 ave_loss 0.7833\n",
            "Epoch 8 step 149 ave_loss 0.7489\n",
            "Epoch 8 step 179 ave_loss 0.6654\n",
            "Epoch 8 step 209 ave_loss 0.6838\n",
            "              precision    recall  f1-score   support\n",
            "\n",
            "          2C       0.21      0.23      0.22       409\n",
            "          3C       0.53      0.65      0.58       367\n",
            "          4C       0.68      0.57      0.62       831\n",
            "\n",
            "    accuracy                           0.50      1607\n",
            "   macro avg       0.47      0.48      0.47      1607\n",
            "weighted avg       0.52      0.50      0.51      1607\n",
            "\n"
          ]
        },
        {
          "output_type": "stream",
          "name": "stderr",
          "text": [
            "/usr/local/lib/python3.7/dist-packages/torch/utils/data/dataloader.py:481: UserWarning: This DataLoader will create 4 worker processes in total. Our suggested max number of worker in current system is 2, which is smaller than what this DataLoader is going to create. Please be aware that excessive worker creation might get DataLoader running slow or even freeze, lower the worker number to avoid potential slowness/freeze if necessary.\n",
            "  cpuset_checked))\n"
          ]
        },
        {
          "output_type": "stream",
          "name": "stdout",
          "text": [
            "Epoch 9 step 29 ave_loss 0.6544\n",
            "Epoch 9 step 59 ave_loss 0.5349\n",
            "Epoch 9 step 89 ave_loss 0.5613\n",
            "Epoch 9 step 119 ave_loss 0.5363\n",
            "Epoch 9 step 149 ave_loss 0.4773\n",
            "Epoch 9 step 179 ave_loss 0.3933\n",
            "Epoch 9 step 209 ave_loss 0.4430\n",
            "              precision    recall  f1-score   support\n",
            "\n",
            "          2C       0.39      0.52      0.45       409\n",
            "          3C       0.51      0.85      0.63       367\n",
            "          4C       0.97      0.52      0.68       831\n",
            "\n",
            "    accuracy                           0.60      1607\n",
            "   macro avg       0.62      0.63      0.59      1607\n",
            "weighted avg       0.72      0.60      0.61      1607\n",
            "\n"
          ]
        },
        {
          "output_type": "stream",
          "name": "stderr",
          "text": [
            "/usr/local/lib/python3.7/dist-packages/torch/utils/data/dataloader.py:481: UserWarning: This DataLoader will create 4 worker processes in total. Our suggested max number of worker in current system is 2, which is smaller than what this DataLoader is going to create. Please be aware that excessive worker creation might get DataLoader running slow or even freeze, lower the worker number to avoid potential slowness/freeze if necessary.\n",
            "  cpuset_checked))\n"
          ]
        },
        {
          "output_type": "stream",
          "name": "stdout",
          "text": [
            "Epoch 10 step 29 ave_loss 0.3662\n",
            "Epoch 10 step 59 ave_loss 0.3430\n",
            "Epoch 10 step 89 ave_loss 0.3219\n",
            "Epoch 10 step 119 ave_loss 0.3128\n",
            "Epoch 10 step 149 ave_loss 0.3192\n",
            "Epoch 10 step 179 ave_loss 0.2806\n",
            "Epoch 10 step 209 ave_loss 0.3099\n",
            "              precision    recall  f1-score   support\n",
            "\n",
            "          2C       0.39      0.58      0.47       409\n",
            "          3C       0.54      0.77      0.64       367\n",
            "          4C       1.00      0.58      0.74       831\n",
            "\n",
            "    accuracy                           0.62      1607\n",
            "   macro avg       0.65      0.64      0.61      1607\n",
            "weighted avg       0.74      0.62      0.65      1607\n",
            "\n"
          ]
        },
        {
          "output_type": "stream",
          "name": "stderr",
          "text": [
            "/usr/local/lib/python3.7/dist-packages/torch/utils/data/dataloader.py:481: UserWarning: This DataLoader will create 4 worker processes in total. Our suggested max number of worker in current system is 2, which is smaller than what this DataLoader is going to create. Please be aware that excessive worker creation might get DataLoader running slow or even freeze, lower the worker number to avoid potential slowness/freeze if necessary.\n",
            "  cpuset_checked))\n"
          ]
        },
        {
          "output_type": "stream",
          "name": "stdout",
          "text": [
            "Epoch 11 step 29 ave_loss 0.2781\n",
            "Epoch 11 step 59 ave_loss 0.2658\n",
            "Epoch 11 step 89 ave_loss 0.2164\n",
            "Epoch 11 step 119 ave_loss 0.3243\n",
            "Epoch 11 step 149 ave_loss 0.2404\n",
            "Epoch 11 step 179 ave_loss 0.2094\n",
            "Epoch 11 step 209 ave_loss 0.2048\n",
            "              precision    recall  f1-score   support\n",
            "\n",
            "          2C       0.55      0.86      0.67       409\n",
            "          3C       0.74      0.83      0.78       367\n",
            "          4C       1.00      0.68      0.81       831\n",
            "\n",
            "    accuracy                           0.76      1607\n",
            "   macro avg       0.76      0.79      0.75      1607\n",
            "weighted avg       0.83      0.76      0.77      1607\n",
            "\n"
          ]
        },
        {
          "output_type": "stream",
          "name": "stderr",
          "text": [
            "/usr/local/lib/python3.7/dist-packages/torch/utils/data/dataloader.py:481: UserWarning: This DataLoader will create 4 worker processes in total. Our suggested max number of worker in current system is 2, which is smaller than what this DataLoader is going to create. Please be aware that excessive worker creation might get DataLoader running slow or even freeze, lower the worker number to avoid potential slowness/freeze if necessary.\n",
            "  cpuset_checked))\n"
          ]
        },
        {
          "output_type": "stream",
          "name": "stdout",
          "text": [
            "Epoch 12 step 29 ave_loss 0.1769\n",
            "Epoch 12 step 59 ave_loss 0.1786\n",
            "Epoch 12 step 89 ave_loss 0.1969\n",
            "Epoch 12 step 119 ave_loss 0.2251\n",
            "Epoch 12 step 149 ave_loss 0.1720\n",
            "Epoch 12 step 179 ave_loss 0.2053\n",
            "Epoch 12 step 209 ave_loss 0.1739\n",
            "              precision    recall  f1-score   support\n",
            "\n",
            "          2C       0.94      0.48      0.63       409\n",
            "          3C       0.64      0.96      0.77       367\n",
            "          4C       0.97      0.99      0.98       831\n",
            "\n",
            "    accuracy                           0.85      1607\n",
            "   macro avg       0.85      0.81      0.79      1607\n",
            "weighted avg       0.89      0.85      0.84      1607\n",
            "\n"
          ]
        },
        {
          "output_type": "stream",
          "name": "stderr",
          "text": [
            "/usr/local/lib/python3.7/dist-packages/torch/utils/data/dataloader.py:481: UserWarning: This DataLoader will create 4 worker processes in total. Our suggested max number of worker in current system is 2, which is smaller than what this DataLoader is going to create. Please be aware that excessive worker creation might get DataLoader running slow or even freeze, lower the worker number to avoid potential slowness/freeze if necessary.\n",
            "  cpuset_checked))\n"
          ]
        },
        {
          "output_type": "stream",
          "name": "stdout",
          "text": [
            "Epoch 13 step 29 ave_loss 0.2092\n",
            "Epoch 13 step 59 ave_loss 0.1591\n",
            "Epoch 13 step 89 ave_loss 0.1435\n",
            "Epoch 13 step 119 ave_loss 0.1542\n",
            "Epoch 13 step 149 ave_loss 0.1323\n",
            "Epoch 13 step 179 ave_loss 0.1766\n",
            "Epoch 13 step 209 ave_loss 0.1384\n",
            "              precision    recall  f1-score   support\n",
            "\n",
            "          2C       0.65      0.67      0.66       409\n",
            "          3C       0.68      0.92      0.78       367\n",
            "          4C       0.98      0.82      0.89       831\n",
            "\n",
            "    accuracy                           0.80      1607\n",
            "   macro avg       0.77      0.80      0.78      1607\n",
            "weighted avg       0.83      0.80      0.81      1607\n",
            "\n"
          ]
        },
        {
          "output_type": "stream",
          "name": "stderr",
          "text": [
            "/usr/local/lib/python3.7/dist-packages/torch/utils/data/dataloader.py:481: UserWarning: This DataLoader will create 4 worker processes in total. Our suggested max number of worker in current system is 2, which is smaller than what this DataLoader is going to create. Please be aware that excessive worker creation might get DataLoader running slow or even freeze, lower the worker number to avoid potential slowness/freeze if necessary.\n",
            "  cpuset_checked))\n"
          ]
        },
        {
          "output_type": "stream",
          "name": "stdout",
          "text": [
            "Epoch 14 step 29 ave_loss 0.1182\n",
            "Epoch 14 step 59 ave_loss 0.1115\n",
            "Epoch 14 step 89 ave_loss 0.1431\n",
            "Epoch 14 step 119 ave_loss 0.1404\n",
            "Epoch 14 step 149 ave_loss 0.1251\n",
            "Epoch 14 step 179 ave_loss 0.1494\n",
            "Epoch 14 step 209 ave_loss 0.1033\n",
            "              precision    recall  f1-score   support\n",
            "\n",
            "          2C       0.77      0.78      0.77       409\n",
            "          3C       0.79      0.91      0.84       367\n",
            "          4C       0.98      0.91      0.95       831\n",
            "\n",
            "    accuracy                           0.88      1607\n",
            "   macro avg       0.85      0.86      0.85      1607\n",
            "weighted avg       0.88      0.88      0.88      1607\n",
            "\n"
          ]
        },
        {
          "output_type": "stream",
          "name": "stderr",
          "text": [
            "/usr/local/lib/python3.7/dist-packages/torch/utils/data/dataloader.py:481: UserWarning: This DataLoader will create 4 worker processes in total. Our suggested max number of worker in current system is 2, which is smaller than what this DataLoader is going to create. Please be aware that excessive worker creation might get DataLoader running slow or even freeze, lower the worker number to avoid potential slowness/freeze if necessary.\n",
            "  cpuset_checked))\n"
          ]
        },
        {
          "output_type": "stream",
          "name": "stdout",
          "text": [
            "Epoch 15 step 29 ave_loss 0.1085\n",
            "Epoch 15 step 59 ave_loss 0.1300\n",
            "Epoch 15 step 89 ave_loss 0.1361\n",
            "Epoch 15 step 119 ave_loss 0.1260\n",
            "Epoch 15 step 149 ave_loss 0.1233\n",
            "Epoch 15 step 179 ave_loss 0.0866\n",
            "Epoch 15 step 209 ave_loss 0.0934\n",
            "              precision    recall  f1-score   support\n",
            "\n",
            "          2C       0.72      0.65      0.68       409\n",
            "          3C       0.62      0.85      0.72       367\n",
            "          4C       0.98      0.87      0.92       831\n",
            "\n",
            "    accuracy                           0.81      1607\n",
            "   macro avg       0.77      0.79      0.77      1607\n",
            "weighted avg       0.83      0.81      0.81      1607\n",
            "\n"
          ]
        },
        {
          "output_type": "stream",
          "name": "stderr",
          "text": [
            "/usr/local/lib/python3.7/dist-packages/torch/utils/data/dataloader.py:481: UserWarning: This DataLoader will create 4 worker processes in total. Our suggested max number of worker in current system is 2, which is smaller than what this DataLoader is going to create. Please be aware that excessive worker creation might get DataLoader running slow or even freeze, lower the worker number to avoid potential slowness/freeze if necessary.\n",
            "  cpuset_checked))\n"
          ]
        },
        {
          "output_type": "stream",
          "name": "stdout",
          "text": [
            "Epoch 16 step 29 ave_loss 0.0788\n",
            "Epoch 16 step 59 ave_loss 0.1197\n",
            "Epoch 16 step 89 ave_loss 0.0937\n",
            "Epoch 16 step 119 ave_loss 0.0966\n",
            "Epoch 16 step 149 ave_loss 0.0791\n",
            "Epoch 16 step 179 ave_loss 0.1081\n",
            "Epoch 16 step 209 ave_loss 0.0718\n",
            "              precision    recall  f1-score   support\n",
            "\n",
            "          2C       0.67      0.90      0.77       409\n",
            "          3C       0.85      0.75      0.80       367\n",
            "          4C       1.00      0.88      0.94       831\n",
            "\n",
            "    accuracy                           0.86      1607\n",
            "   macro avg       0.84      0.84      0.83      1607\n",
            "weighted avg       0.88      0.86      0.86      1607\n",
            "\n"
          ]
        },
        {
          "output_type": "stream",
          "name": "stderr",
          "text": [
            "/usr/local/lib/python3.7/dist-packages/torch/utils/data/dataloader.py:481: UserWarning: This DataLoader will create 4 worker processes in total. Our suggested max number of worker in current system is 2, which is smaller than what this DataLoader is going to create. Please be aware that excessive worker creation might get DataLoader running slow or even freeze, lower the worker number to avoid potential slowness/freeze if necessary.\n",
            "  cpuset_checked))\n"
          ]
        },
        {
          "output_type": "stream",
          "name": "stdout",
          "text": [
            "Epoch 17 step 29 ave_loss 0.0963\n",
            "Epoch 17 step 59 ave_loss 0.0770\n",
            "Epoch 17 step 89 ave_loss 0.0899\n",
            "Epoch 17 step 119 ave_loss 0.0641\n",
            "Epoch 17 step 149 ave_loss 0.0872\n",
            "Epoch 17 step 179 ave_loss 0.0906\n",
            "Epoch 17 step 209 ave_loss 0.0524\n",
            "              precision    recall  f1-score   support\n",
            "\n",
            "          2C       0.70      0.74      0.72       409\n",
            "          3C       0.57      0.90      0.70       367\n",
            "          4C       1.00      0.72      0.84       831\n",
            "\n",
            "    accuracy                           0.77      1607\n",
            "   macro avg       0.76      0.79      0.75      1607\n",
            "weighted avg       0.83      0.77      0.78      1607\n",
            "\n"
          ]
        },
        {
          "output_type": "stream",
          "name": "stderr",
          "text": [
            "/usr/local/lib/python3.7/dist-packages/torch/utils/data/dataloader.py:481: UserWarning: This DataLoader will create 4 worker processes in total. Our suggested max number of worker in current system is 2, which is smaller than what this DataLoader is going to create. Please be aware that excessive worker creation might get DataLoader running slow or even freeze, lower the worker number to avoid potential slowness/freeze if necessary.\n",
            "  cpuset_checked))\n"
          ]
        },
        {
          "output_type": "stream",
          "name": "stdout",
          "text": [
            "Epoch 18 step 29 ave_loss 0.0911\n",
            "Epoch 18 step 59 ave_loss 0.0867\n",
            "Epoch 18 step 89 ave_loss 0.0634\n",
            "Epoch 18 step 119 ave_loss 0.0801\n",
            "Epoch 18 step 149 ave_loss 0.0844\n",
            "Epoch 18 step 179 ave_loss 0.0956\n",
            "Epoch 18 step 209 ave_loss 0.0690\n",
            "              precision    recall  f1-score   support\n",
            "\n",
            "          2C       0.79      0.83      0.81       409\n",
            "          3C       0.65      0.82      0.72       367\n",
            "          4C       1.00      0.86      0.92       831\n",
            "\n",
            "    accuracy                           0.84      1607\n",
            "   macro avg       0.81      0.84      0.82      1607\n",
            "weighted avg       0.87      0.84      0.85      1607\n",
            "\n"
          ]
        },
        {
          "output_type": "stream",
          "name": "stderr",
          "text": [
            "/usr/local/lib/python3.7/dist-packages/torch/utils/data/dataloader.py:481: UserWarning: This DataLoader will create 4 worker processes in total. Our suggested max number of worker in current system is 2, which is smaller than what this DataLoader is going to create. Please be aware that excessive worker creation might get DataLoader running slow or even freeze, lower the worker number to avoid potential slowness/freeze if necessary.\n",
            "  cpuset_checked))\n"
          ]
        },
        {
          "output_type": "stream",
          "name": "stdout",
          "text": [
            "Epoch 19 step 29 ave_loss 0.0757\n",
            "Epoch 19 step 59 ave_loss 0.0799\n",
            "Epoch 19 step 89 ave_loss 0.1007\n",
            "Epoch 19 step 119 ave_loss 0.0636\n",
            "Epoch 19 step 149 ave_loss 0.0801\n",
            "Epoch 19 step 179 ave_loss 0.0773\n",
            "Epoch 19 step 209 ave_loss 0.0501\n",
            "              precision    recall  f1-score   support\n",
            "\n",
            "          2C       0.62      0.82      0.71       409\n",
            "          3C       0.72      0.81      0.76       367\n",
            "          4C       1.00      0.78      0.88       831\n",
            "\n",
            "    accuracy                           0.80      1607\n",
            "   macro avg       0.78      0.81      0.78      1607\n",
            "weighted avg       0.84      0.80      0.81      1607\n",
            "\n",
            "Number of images in train: 6717 \n",
            "Number of images in test: 1607\n",
            "Index of classes: {'2C': 0, '3C': 1, '4C': 2}\n",
            "Type: <class 'torch.Tensor'> | size:  torch.Size([3, 64, 64])\n",
            "Number of batchs in train: 210 \n",
            "Number of batchs in test: 51\n"
          ]
        },
        {
          "output_type": "stream",
          "name": "stderr",
          "text": [
            "/usr/local/lib/python3.7/dist-packages/torch/utils/data/dataloader.py:481: UserWarning: This DataLoader will create 4 worker processes in total. Our suggested max number of worker in current system is 2, which is smaller than what this DataLoader is going to create. Please be aware that excessive worker creation might get DataLoader running slow or even freeze, lower the worker number to avoid potential slowness/freeze if necessary.\n",
            "  cpuset_checked))\n",
            "Using cache found in /root/.cache/torch/hub/pytorch_vision_v0.10.0\n"
          ]
        },
        {
          "output_type": "stream",
          "name": "stdout",
          "text": [
            "Model name:  resnet50\n",
            "Epoch 0 step 29 ave_loss 5.8306\n",
            "Epoch 0 step 59 ave_loss 3.3096\n",
            "Epoch 0 step 89 ave_loss 2.4417\n",
            "Epoch 0 step 119 ave_loss 2.3555\n",
            "Epoch 0 step 149 ave_loss 1.6005\n",
            "Epoch 0 step 179 ave_loss 1.3954\n",
            "Epoch 0 step 209 ave_loss 1.2501\n",
            "              precision    recall  f1-score   support\n",
            "\n",
            "          2C       0.00      0.00      0.00       409\n",
            "          3C       0.31      1.00      0.47       367\n",
            "          4C       1.00      0.51      0.67       831\n",
            "\n",
            "    accuracy                           0.49      1607\n",
            "   macro avg       0.44      0.50      0.38      1607\n",
            "weighted avg       0.59      0.49      0.46      1607\n",
            "\n"
          ]
        },
        {
          "output_type": "stream",
          "name": "stderr",
          "text": [
            "/usr/local/lib/python3.7/dist-packages/sklearn/metrics/_classification.py:1308: UndefinedMetricWarning: Precision and F-score are ill-defined and being set to 0.0 in labels with no predicted samples. Use `zero_division` parameter to control this behavior.\n",
            "  _warn_prf(average, modifier, msg_start, len(result))\n",
            "/usr/local/lib/python3.7/dist-packages/sklearn/metrics/_classification.py:1308: UndefinedMetricWarning: Precision and F-score are ill-defined and being set to 0.0 in labels with no predicted samples. Use `zero_division` parameter to control this behavior.\n",
            "  _warn_prf(average, modifier, msg_start, len(result))\n",
            "/usr/local/lib/python3.7/dist-packages/sklearn/metrics/_classification.py:1308: UndefinedMetricWarning: Precision and F-score are ill-defined and being set to 0.0 in labels with no predicted samples. Use `zero_division` parameter to control this behavior.\n",
            "  _warn_prf(average, modifier, msg_start, len(result))\n",
            "/usr/local/lib/python3.7/dist-packages/torch/utils/data/dataloader.py:481: UserWarning: This DataLoader will create 4 worker processes in total. Our suggested max number of worker in current system is 2, which is smaller than what this DataLoader is going to create. Please be aware that excessive worker creation might get DataLoader running slow or even freeze, lower the worker number to avoid potential slowness/freeze if necessary.\n",
            "  cpuset_checked))\n"
          ]
        },
        {
          "output_type": "stream",
          "name": "stdout",
          "text": [
            "Epoch 1 step 29 ave_loss 0.9430\n",
            "Epoch 1 step 59 ave_loss 0.7504\n",
            "Epoch 1 step 89 ave_loss 0.7538\n",
            "Epoch 1 step 119 ave_loss 0.5568\n",
            "Epoch 1 step 149 ave_loss 0.5410\n",
            "Epoch 1 step 179 ave_loss 0.8440\n",
            "Epoch 1 step 209 ave_loss 0.5976\n",
            "              precision    recall  f1-score   support\n",
            "\n",
            "          2C       0.43      0.79      0.56       409\n",
            "          3C       0.78      0.86      0.82       367\n",
            "          4C       1.00      0.54      0.70       831\n",
            "\n",
            "    accuracy                           0.68      1607\n",
            "   macro avg       0.74      0.73      0.69      1607\n",
            "weighted avg       0.80      0.68      0.69      1607\n",
            "\n"
          ]
        },
        {
          "output_type": "stream",
          "name": "stderr",
          "text": [
            "/usr/local/lib/python3.7/dist-packages/torch/utils/data/dataloader.py:481: UserWarning: This DataLoader will create 4 worker processes in total. Our suggested max number of worker in current system is 2, which is smaller than what this DataLoader is going to create. Please be aware that excessive worker creation might get DataLoader running slow or even freeze, lower the worker number to avoid potential slowness/freeze if necessary.\n",
            "  cpuset_checked))\n"
          ]
        },
        {
          "output_type": "stream",
          "name": "stdout",
          "text": [
            "Epoch 2 step 29 ave_loss 0.5418\n",
            "Epoch 2 step 59 ave_loss 0.4199\n",
            "Epoch 2 step 89 ave_loss 0.5983\n",
            "Epoch 2 step 119 ave_loss 0.4684\n",
            "Epoch 2 step 149 ave_loss 0.4270\n",
            "Epoch 2 step 179 ave_loss 0.4782\n",
            "Epoch 2 step 209 ave_loss 0.4146\n",
            "              precision    recall  f1-score   support\n",
            "\n",
            "          2C       0.48      0.88      0.62       409\n",
            "          3C       0.81      0.71      0.76       367\n",
            "          4C       1.00      0.64      0.78       831\n",
            "\n",
            "    accuracy                           0.72      1607\n",
            "   macro avg       0.76      0.75      0.72      1607\n",
            "weighted avg       0.82      0.72      0.74      1607\n",
            "\n"
          ]
        },
        {
          "output_type": "stream",
          "name": "stderr",
          "text": [
            "/usr/local/lib/python3.7/dist-packages/torch/utils/data/dataloader.py:481: UserWarning: This DataLoader will create 4 worker processes in total. Our suggested max number of worker in current system is 2, which is smaller than what this DataLoader is going to create. Please be aware that excessive worker creation might get DataLoader running slow or even freeze, lower the worker number to avoid potential slowness/freeze if necessary.\n",
            "  cpuset_checked))\n"
          ]
        },
        {
          "output_type": "stream",
          "name": "stdout",
          "text": [
            "Epoch 3 step 29 ave_loss 0.3526\n",
            "Epoch 3 step 59 ave_loss 0.2587\n",
            "Epoch 3 step 89 ave_loss 0.1863\n",
            "Epoch 3 step 119 ave_loss 0.2351\n",
            "Epoch 3 step 149 ave_loss 0.2740\n",
            "Epoch 3 step 179 ave_loss 0.2071\n",
            "Epoch 3 step 209 ave_loss 0.2925\n",
            "              precision    recall  f1-score   support\n",
            "\n",
            "          2C       0.49      0.69      0.57       409\n",
            "          3C       0.65      0.85      0.73       367\n",
            "          4C       0.99      0.65      0.78       831\n",
            "\n",
            "    accuracy                           0.70      1607\n",
            "   macro avg       0.71      0.73      0.70      1607\n",
            "weighted avg       0.78      0.70      0.72      1607\n",
            "\n"
          ]
        },
        {
          "output_type": "stream",
          "name": "stderr",
          "text": [
            "/usr/local/lib/python3.7/dist-packages/torch/utils/data/dataloader.py:481: UserWarning: This DataLoader will create 4 worker processes in total. Our suggested max number of worker in current system is 2, which is smaller than what this DataLoader is going to create. Please be aware that excessive worker creation might get DataLoader running slow or even freeze, lower the worker number to avoid potential slowness/freeze if necessary.\n",
            "  cpuset_checked))\n"
          ]
        },
        {
          "output_type": "stream",
          "name": "stdout",
          "text": [
            "Epoch 4 step 29 ave_loss 0.2807\n",
            "Epoch 4 step 59 ave_loss 0.1943\n",
            "Epoch 4 step 89 ave_loss 0.1633\n",
            "Epoch 4 step 119 ave_loss 0.1340\n",
            "Epoch 4 step 149 ave_loss 0.1470\n",
            "Epoch 4 step 179 ave_loss 0.1471\n",
            "Epoch 4 step 209 ave_loss 0.1473\n",
            "              precision    recall  f1-score   support\n",
            "\n",
            "          2C       0.63      0.90      0.74       409\n",
            "          3C       0.85      0.78      0.81       367\n",
            "          4C       1.00      0.82      0.90       831\n",
            "\n",
            "    accuracy                           0.83      1607\n",
            "   macro avg       0.82      0.83      0.82      1607\n",
            "weighted avg       0.87      0.83      0.84      1607\n",
            "\n"
          ]
        },
        {
          "output_type": "stream",
          "name": "stderr",
          "text": [
            "/usr/local/lib/python3.7/dist-packages/torch/utils/data/dataloader.py:481: UserWarning: This DataLoader will create 4 worker processes in total. Our suggested max number of worker in current system is 2, which is smaller than what this DataLoader is going to create. Please be aware that excessive worker creation might get DataLoader running slow or even freeze, lower the worker number to avoid potential slowness/freeze if necessary.\n",
            "  cpuset_checked))\n"
          ]
        },
        {
          "output_type": "stream",
          "name": "stdout",
          "text": [
            "Epoch 5 step 29 ave_loss 0.2350\n",
            "Epoch 5 step 59 ave_loss 0.2336\n",
            "Epoch 5 step 89 ave_loss 0.1691\n",
            "Epoch 5 step 119 ave_loss 0.1104\n",
            "Epoch 5 step 149 ave_loss 0.1589\n",
            "Epoch 5 step 179 ave_loss 0.1156\n",
            "Epoch 5 step 209 ave_loss 0.0836\n",
            "              precision    recall  f1-score   support\n",
            "\n",
            "          2C       0.88      0.87      0.87       409\n",
            "          3C       0.80      0.92      0.86       367\n",
            "          4C       1.00      0.94      0.97       831\n",
            "\n",
            "    accuracy                           0.92      1607\n",
            "   macro avg       0.89      0.91      0.90      1607\n",
            "weighted avg       0.92      0.92      0.92      1607\n",
            "\n"
          ]
        },
        {
          "output_type": "stream",
          "name": "stderr",
          "text": [
            "/usr/local/lib/python3.7/dist-packages/torch/utils/data/dataloader.py:481: UserWarning: This DataLoader will create 4 worker processes in total. Our suggested max number of worker in current system is 2, which is smaller than what this DataLoader is going to create. Please be aware that excessive worker creation might get DataLoader running slow or even freeze, lower the worker number to avoid potential slowness/freeze if necessary.\n",
            "  cpuset_checked))\n"
          ]
        },
        {
          "output_type": "stream",
          "name": "stdout",
          "text": [
            "Epoch 6 step 29 ave_loss 0.0858\n",
            "Epoch 6 step 59 ave_loss 0.0764\n",
            "Epoch 6 step 89 ave_loss 0.0786\n",
            "Epoch 6 step 119 ave_loss 0.0918\n",
            "Epoch 6 step 149 ave_loss 0.0695\n",
            "Epoch 6 step 179 ave_loss 0.0636\n",
            "Epoch 6 step 209 ave_loss 0.0521\n",
            "              precision    recall  f1-score   support\n",
            "\n",
            "          2C       0.72      0.75      0.73       409\n",
            "          3C       0.66      0.86      0.75       367\n",
            "          4C       1.00      0.85      0.92       831\n",
            "\n",
            "    accuracy                           0.83      1607\n",
            "   macro avg       0.79      0.82      0.80      1607\n",
            "weighted avg       0.85      0.83      0.83      1607\n",
            "\n"
          ]
        },
        {
          "output_type": "stream",
          "name": "stderr",
          "text": [
            "/usr/local/lib/python3.7/dist-packages/torch/utils/data/dataloader.py:481: UserWarning: This DataLoader will create 4 worker processes in total. Our suggested max number of worker in current system is 2, which is smaller than what this DataLoader is going to create. Please be aware that excessive worker creation might get DataLoader running slow or even freeze, lower the worker number to avoid potential slowness/freeze if necessary.\n",
            "  cpuset_checked))\n"
          ]
        },
        {
          "output_type": "stream",
          "name": "stdout",
          "text": [
            "Epoch 7 step 29 ave_loss 0.0801\n",
            "Epoch 7 step 59 ave_loss 0.0901\n",
            "Epoch 7 step 89 ave_loss 0.0929\n",
            "Epoch 7 step 119 ave_loss 0.0743\n",
            "Epoch 7 step 149 ave_loss 0.0763\n",
            "Epoch 7 step 179 ave_loss 0.0432\n",
            "Epoch 7 step 209 ave_loss 0.0634\n",
            "              precision    recall  f1-score   support\n",
            "\n",
            "          2C       0.88      0.59      0.71       409\n",
            "          3C       0.63      0.95      0.76       367\n",
            "          4C       0.99      0.93      0.96       831\n",
            "\n",
            "    accuracy                           0.85      1607\n",
            "   macro avg       0.84      0.83      0.81      1607\n",
            "weighted avg       0.88      0.85      0.85      1607\n",
            "\n"
          ]
        },
        {
          "output_type": "stream",
          "name": "stderr",
          "text": [
            "/usr/local/lib/python3.7/dist-packages/torch/utils/data/dataloader.py:481: UserWarning: This DataLoader will create 4 worker processes in total. Our suggested max number of worker in current system is 2, which is smaller than what this DataLoader is going to create. Please be aware that excessive worker creation might get DataLoader running slow or even freeze, lower the worker number to avoid potential slowness/freeze if necessary.\n",
            "  cpuset_checked))\n"
          ]
        },
        {
          "output_type": "stream",
          "name": "stdout",
          "text": [
            "Epoch 8 step 29 ave_loss 0.0640\n",
            "Epoch 8 step 59 ave_loss 0.0588\n",
            "Epoch 8 step 89 ave_loss 0.0388\n",
            "Epoch 8 step 119 ave_loss 0.0455\n",
            "Epoch 8 step 149 ave_loss 0.0668\n",
            "Epoch 8 step 179 ave_loss 0.0532\n",
            "Epoch 8 step 209 ave_loss 0.0775\n",
            "              precision    recall  f1-score   support\n",
            "\n",
            "          2C       0.79      0.65      0.71       409\n",
            "          3C       0.65      0.96      0.77       367\n",
            "          4C       1.00      0.88      0.94       831\n",
            "\n",
            "    accuracy                           0.84      1607\n",
            "   macro avg       0.81      0.83      0.81      1607\n",
            "weighted avg       0.87      0.84      0.84      1607\n",
            "\n"
          ]
        },
        {
          "output_type": "stream",
          "name": "stderr",
          "text": [
            "/usr/local/lib/python3.7/dist-packages/torch/utils/data/dataloader.py:481: UserWarning: This DataLoader will create 4 worker processes in total. Our suggested max number of worker in current system is 2, which is smaller than what this DataLoader is going to create. Please be aware that excessive worker creation might get DataLoader running slow or even freeze, lower the worker number to avoid potential slowness/freeze if necessary.\n",
            "  cpuset_checked))\n"
          ]
        },
        {
          "output_type": "stream",
          "name": "stdout",
          "text": [
            "Epoch 9 step 29 ave_loss 0.0236\n",
            "Epoch 9 step 59 ave_loss 0.0329\n",
            "Epoch 9 step 89 ave_loss 0.0538\n",
            "Epoch 9 step 119 ave_loss 0.0655\n",
            "Epoch 9 step 149 ave_loss 0.0765\n",
            "Epoch 9 step 179 ave_loss 0.0263\n",
            "Epoch 9 step 209 ave_loss 0.0312\n",
            "              precision    recall  f1-score   support\n",
            "\n",
            "          2C       0.82      0.84      0.83       409\n",
            "          3C       0.83      0.92      0.87       367\n",
            "          4C       0.99      0.93      0.96       831\n",
            "\n",
            "    accuracy                           0.90      1607\n",
            "   macro avg       0.88      0.90      0.89      1607\n",
            "weighted avg       0.91      0.90      0.90      1607\n",
            "\n"
          ]
        },
        {
          "output_type": "stream",
          "name": "stderr",
          "text": [
            "/usr/local/lib/python3.7/dist-packages/torch/utils/data/dataloader.py:481: UserWarning: This DataLoader will create 4 worker processes in total. Our suggested max number of worker in current system is 2, which is smaller than what this DataLoader is going to create. Please be aware that excessive worker creation might get DataLoader running slow or even freeze, lower the worker number to avoid potential slowness/freeze if necessary.\n",
            "  cpuset_checked))\n"
          ]
        },
        {
          "output_type": "stream",
          "name": "stdout",
          "text": [
            "Epoch 10 step 29 ave_loss 0.0622\n",
            "Epoch 10 step 59 ave_loss 0.0523\n",
            "Epoch 10 step 89 ave_loss 0.0433\n",
            "Epoch 10 step 119 ave_loss 0.0287\n",
            "Epoch 10 step 149 ave_loss 0.0519\n",
            "Epoch 10 step 179 ave_loss 0.0412\n",
            "Epoch 10 step 209 ave_loss 0.0298\n",
            "              precision    recall  f1-score   support\n",
            "\n",
            "          2C       0.82      0.82      0.82       409\n",
            "          3C       0.74      0.92      0.82       367\n",
            "          4C       1.00      0.89      0.94       831\n",
            "\n",
            "    accuracy                           0.88      1607\n",
            "   macro avg       0.85      0.88      0.86      1607\n",
            "weighted avg       0.89      0.88      0.88      1607\n",
            "\n"
          ]
        },
        {
          "output_type": "stream",
          "name": "stderr",
          "text": [
            "/usr/local/lib/python3.7/dist-packages/torch/utils/data/dataloader.py:481: UserWarning: This DataLoader will create 4 worker processes in total. Our suggested max number of worker in current system is 2, which is smaller than what this DataLoader is going to create. Please be aware that excessive worker creation might get DataLoader running slow or even freeze, lower the worker number to avoid potential slowness/freeze if necessary.\n",
            "  cpuset_checked))\n"
          ]
        },
        {
          "output_type": "stream",
          "name": "stdout",
          "text": [
            "Epoch 11 step 29 ave_loss 0.0131\n",
            "Epoch 11 step 59 ave_loss 0.0368\n",
            "Epoch 11 step 89 ave_loss 0.0424\n",
            "Epoch 11 step 119 ave_loss 0.0217\n",
            "Epoch 11 step 149 ave_loss 0.0193\n",
            "Epoch 11 step 179 ave_loss 0.0166\n",
            "Epoch 11 step 209 ave_loss 0.0227\n",
            "              precision    recall  f1-score   support\n",
            "\n",
            "          2C       0.80      0.79      0.80       409\n",
            "          3C       0.73      0.90      0.81       367\n",
            "          4C       1.00      0.90      0.94       831\n",
            "\n",
            "    accuracy                           0.87      1607\n",
            "   macro avg       0.84      0.86      0.85      1607\n",
            "weighted avg       0.89      0.87      0.87      1607\n",
            "\n"
          ]
        },
        {
          "output_type": "stream",
          "name": "stderr",
          "text": [
            "/usr/local/lib/python3.7/dist-packages/torch/utils/data/dataloader.py:481: UserWarning: This DataLoader will create 4 worker processes in total. Our suggested max number of worker in current system is 2, which is smaller than what this DataLoader is going to create. Please be aware that excessive worker creation might get DataLoader running slow or even freeze, lower the worker number to avoid potential slowness/freeze if necessary.\n",
            "  cpuset_checked))\n"
          ]
        },
        {
          "output_type": "stream",
          "name": "stdout",
          "text": [
            "Epoch 12 step 29 ave_loss 0.0464\n",
            "Epoch 12 step 59 ave_loss 0.0255\n",
            "Epoch 12 step 89 ave_loss 0.0290\n",
            "Epoch 12 step 119 ave_loss 0.0083\n",
            "Epoch 12 step 149 ave_loss 0.0103\n",
            "Epoch 12 step 179 ave_loss 0.0228\n",
            "Epoch 12 step 209 ave_loss 0.0418\n",
            "              precision    recall  f1-score   support\n",
            "\n",
            "          2C       0.69      0.65      0.67       409\n",
            "          3C       0.62      0.96      0.75       367\n",
            "          4C       1.00      0.79      0.88       831\n",
            "\n",
            "    accuracy                           0.79      1607\n",
            "   macro avg       0.77      0.80      0.77      1607\n",
            "weighted avg       0.83      0.79      0.80      1607\n",
            "\n"
          ]
        },
        {
          "output_type": "stream",
          "name": "stderr",
          "text": [
            "/usr/local/lib/python3.7/dist-packages/torch/utils/data/dataloader.py:481: UserWarning: This DataLoader will create 4 worker processes in total. Our suggested max number of worker in current system is 2, which is smaller than what this DataLoader is going to create. Please be aware that excessive worker creation might get DataLoader running slow or even freeze, lower the worker number to avoid potential slowness/freeze if necessary.\n",
            "  cpuset_checked))\n"
          ]
        },
        {
          "output_type": "stream",
          "name": "stdout",
          "text": [
            "Epoch 13 step 29 ave_loss 0.0337\n",
            "Epoch 13 step 59 ave_loss 0.0178\n",
            "Epoch 13 step 89 ave_loss 0.0147\n",
            "Epoch 13 step 119 ave_loss 0.0197\n",
            "Epoch 13 step 149 ave_loss 0.0281\n",
            "Epoch 13 step 179 ave_loss 0.0304\n",
            "Epoch 13 step 209 ave_loss 0.0192\n",
            "              precision    recall  f1-score   support\n",
            "\n",
            "          2C       0.83      0.89      0.86       409\n",
            "          3C       0.82      0.88      0.85       367\n",
            "          4C       1.00      0.93      0.96       831\n",
            "\n",
            "    accuracy                           0.91      1607\n",
            "   macro avg       0.88      0.90      0.89      1607\n",
            "weighted avg       0.91      0.91      0.91      1607\n",
            "\n"
          ]
        },
        {
          "output_type": "stream",
          "name": "stderr",
          "text": [
            "/usr/local/lib/python3.7/dist-packages/torch/utils/data/dataloader.py:481: UserWarning: This DataLoader will create 4 worker processes in total. Our suggested max number of worker in current system is 2, which is smaller than what this DataLoader is going to create. Please be aware that excessive worker creation might get DataLoader running slow or even freeze, lower the worker number to avoid potential slowness/freeze if necessary.\n",
            "  cpuset_checked))\n"
          ]
        },
        {
          "output_type": "stream",
          "name": "stdout",
          "text": [
            "Epoch 14 step 29 ave_loss 0.0273\n",
            "Epoch 14 step 59 ave_loss 0.0102\n",
            "Epoch 14 step 89 ave_loss 0.0285\n",
            "Epoch 14 step 119 ave_loss 0.0104\n",
            "Epoch 14 step 149 ave_loss 0.0091\n",
            "Epoch 14 step 179 ave_loss 0.0311\n",
            "Epoch 14 step 209 ave_loss 0.0230\n",
            "              precision    recall  f1-score   support\n",
            "\n",
            "          2C       0.76      0.72      0.74       409\n",
            "          3C       0.67      0.93      0.78       367\n",
            "          4C       1.00      0.86      0.92       831\n",
            "\n",
            "    accuracy                           0.84      1607\n",
            "   macro avg       0.81      0.83      0.81      1607\n",
            "weighted avg       0.86      0.84      0.84      1607\n",
            "\n"
          ]
        },
        {
          "output_type": "stream",
          "name": "stderr",
          "text": [
            "/usr/local/lib/python3.7/dist-packages/torch/utils/data/dataloader.py:481: UserWarning: This DataLoader will create 4 worker processes in total. Our suggested max number of worker in current system is 2, which is smaller than what this DataLoader is going to create. Please be aware that excessive worker creation might get DataLoader running slow or even freeze, lower the worker number to avoid potential slowness/freeze if necessary.\n",
            "  cpuset_checked))\n"
          ]
        },
        {
          "output_type": "stream",
          "name": "stdout",
          "text": [
            "Epoch 15 step 29 ave_loss 0.0145\n",
            "Epoch 15 step 59 ave_loss 0.0219\n",
            "Epoch 15 step 89 ave_loss 0.0323\n",
            "Epoch 15 step 119 ave_loss 0.0210\n",
            "Epoch 15 step 149 ave_loss 0.0124\n",
            "Epoch 15 step 179 ave_loss 0.0120\n",
            "Epoch 15 step 209 ave_loss 0.0192\n",
            "              precision    recall  f1-score   support\n",
            "\n",
            "          2C       0.84      0.74      0.79       409\n",
            "          3C       0.67      0.92      0.77       367\n",
            "          4C       1.00      0.89      0.94       831\n",
            "\n",
            "    accuracy                           0.86      1607\n",
            "   macro avg       0.84      0.85      0.84      1607\n",
            "weighted avg       0.88      0.86      0.86      1607\n",
            "\n"
          ]
        },
        {
          "output_type": "stream",
          "name": "stderr",
          "text": [
            "/usr/local/lib/python3.7/dist-packages/torch/utils/data/dataloader.py:481: UserWarning: This DataLoader will create 4 worker processes in total. Our suggested max number of worker in current system is 2, which is smaller than what this DataLoader is going to create. Please be aware that excessive worker creation might get DataLoader running slow or even freeze, lower the worker number to avoid potential slowness/freeze if necessary.\n",
            "  cpuset_checked))\n"
          ]
        },
        {
          "output_type": "stream",
          "name": "stdout",
          "text": [
            "Epoch 16 step 29 ave_loss 0.0113\n",
            "Epoch 16 step 59 ave_loss 0.0195\n",
            "Epoch 16 step 89 ave_loss 0.0250\n",
            "Epoch 16 step 119 ave_loss 0.0209\n",
            "Epoch 16 step 149 ave_loss 0.0243\n",
            "Epoch 16 step 179 ave_loss 0.0276\n",
            "Epoch 16 step 209 ave_loss 0.0176\n",
            "              precision    recall  f1-score   support\n",
            "\n",
            "          2C       0.77      0.84      0.80       409\n",
            "          3C       0.72      0.89      0.80       367\n",
            "          4C       1.00      0.85      0.92       831\n",
            "\n",
            "    accuracy                           0.86      1607\n",
            "   macro avg       0.83      0.86      0.84      1607\n",
            "weighted avg       0.88      0.86      0.86      1607\n",
            "\n"
          ]
        },
        {
          "output_type": "stream",
          "name": "stderr",
          "text": [
            "/usr/local/lib/python3.7/dist-packages/torch/utils/data/dataloader.py:481: UserWarning: This DataLoader will create 4 worker processes in total. Our suggested max number of worker in current system is 2, which is smaller than what this DataLoader is going to create. Please be aware that excessive worker creation might get DataLoader running slow or even freeze, lower the worker number to avoid potential slowness/freeze if necessary.\n",
            "  cpuset_checked))\n"
          ]
        },
        {
          "output_type": "stream",
          "name": "stdout",
          "text": [
            "Epoch 17 step 29 ave_loss 0.0274\n",
            "Epoch 17 step 59 ave_loss 0.0072\n",
            "Epoch 17 step 89 ave_loss 0.0235\n",
            "Epoch 17 step 119 ave_loss 0.0148\n",
            "Epoch 17 step 149 ave_loss 0.0249\n",
            "Epoch 17 step 179 ave_loss 0.0060\n",
            "Epoch 17 step 209 ave_loss 0.0064\n",
            "              precision    recall  f1-score   support\n",
            "\n",
            "          2C       0.79      0.84      0.81       409\n",
            "          3C       0.71      0.89      0.79       367\n",
            "          4C       1.00      0.85      0.92       831\n",
            "\n",
            "    accuracy                           0.86      1607\n",
            "   macro avg       0.83      0.86      0.84      1607\n",
            "weighted avg       0.88      0.86      0.86      1607\n",
            "\n"
          ]
        },
        {
          "output_type": "stream",
          "name": "stderr",
          "text": [
            "/usr/local/lib/python3.7/dist-packages/torch/utils/data/dataloader.py:481: UserWarning: This DataLoader will create 4 worker processes in total. Our suggested max number of worker in current system is 2, which is smaller than what this DataLoader is going to create. Please be aware that excessive worker creation might get DataLoader running slow or even freeze, lower the worker number to avoid potential slowness/freeze if necessary.\n",
            "  cpuset_checked))\n"
          ]
        },
        {
          "output_type": "stream",
          "name": "stdout",
          "text": [
            "Epoch 18 step 29 ave_loss 0.0058\n",
            "Epoch 18 step 59 ave_loss 0.0077\n",
            "Epoch 18 step 89 ave_loss 0.0055\n",
            "Epoch 18 step 119 ave_loss 0.0153\n",
            "Epoch 18 step 149 ave_loss 0.0175\n",
            "Epoch 18 step 179 ave_loss 0.0085\n",
            "Epoch 18 step 209 ave_loss 0.0078\n",
            "              precision    recall  f1-score   support\n",
            "\n",
            "          2C       0.67      0.91      0.77       409\n",
            "          3C       0.87      0.89      0.88       367\n",
            "          4C       1.00      0.81      0.90       831\n",
            "\n",
            "    accuracy                           0.86      1607\n",
            "   macro avg       0.85      0.87      0.85      1607\n",
            "weighted avg       0.89      0.86      0.86      1607\n",
            "\n"
          ]
        },
        {
          "output_type": "stream",
          "name": "stderr",
          "text": [
            "/usr/local/lib/python3.7/dist-packages/torch/utils/data/dataloader.py:481: UserWarning: This DataLoader will create 4 worker processes in total. Our suggested max number of worker in current system is 2, which is smaller than what this DataLoader is going to create. Please be aware that excessive worker creation might get DataLoader running slow or even freeze, lower the worker number to avoid potential slowness/freeze if necessary.\n",
            "  cpuset_checked))\n"
          ]
        },
        {
          "output_type": "stream",
          "name": "stdout",
          "text": [
            "Epoch 19 step 29 ave_loss 0.0197\n",
            "Epoch 19 step 59 ave_loss 0.0230\n",
            "Epoch 19 step 89 ave_loss 0.0054\n",
            "Epoch 19 step 119 ave_loss 0.0113\n",
            "Epoch 19 step 149 ave_loss 0.0146\n",
            "Epoch 19 step 179 ave_loss 0.0107\n",
            "Epoch 19 step 209 ave_loss 0.0219\n",
            "              precision    recall  f1-score   support\n",
            "\n",
            "          2C       0.75      0.77      0.76       409\n",
            "          3C       0.69      0.88      0.77       367\n",
            "          4C       1.00      0.86      0.93       831\n",
            "\n",
            "    accuracy                           0.84      1607\n",
            "   macro avg       0.81      0.84      0.82      1607\n",
            "weighted avg       0.86      0.84      0.85      1607\n",
            "\n",
            "Number of images in train: 6717 \n",
            "Number of images in test: 1607\n",
            "Index of classes: {'2C': 0, '3C': 1, '4C': 2}\n",
            "Type: <class 'torch.Tensor'> | size:  torch.Size([3, 64, 64])\n",
            "Number of batchs in train: 210 \n",
            "Number of batchs in test: 51\n"
          ]
        },
        {
          "output_type": "stream",
          "name": "stderr",
          "text": [
            "/usr/local/lib/python3.7/dist-packages/torch/utils/data/dataloader.py:481: UserWarning: This DataLoader will create 4 worker processes in total. Our suggested max number of worker in current system is 2, which is smaller than what this DataLoader is going to create. Please be aware that excessive worker creation might get DataLoader running slow or even freeze, lower the worker number to avoid potential slowness/freeze if necessary.\n",
            "  cpuset_checked))\n",
            "Using cache found in /root/.cache/torch/hub/pytorch_vision_v0.10.0\n"
          ]
        },
        {
          "output_type": "stream",
          "name": "stdout",
          "text": [
            "Model name:  densenet121\n",
            "Epoch 0 step 29 ave_loss 1.1397\n",
            "Epoch 0 step 59 ave_loss 0.9590\n",
            "Epoch 0 step 89 ave_loss 0.7299\n",
            "Epoch 0 step 119 ave_loss 0.5516\n",
            "Epoch 0 step 149 ave_loss 0.4198\n",
            "Epoch 0 step 179 ave_loss 0.4201\n",
            "Epoch 0 step 209 ave_loss 0.2951\n",
            "              precision    recall  f1-score   support\n",
            "\n",
            "          2C       0.55      0.91      0.68       409\n",
            "          3C       0.70      0.76      0.73       367\n",
            "          4C       0.96      0.61      0.74       831\n",
            "\n",
            "    accuracy                           0.72      1607\n",
            "   macro avg       0.74      0.76      0.72      1607\n",
            "weighted avg       0.80      0.72      0.72      1607\n",
            "\n"
          ]
        },
        {
          "output_type": "stream",
          "name": "stderr",
          "text": [
            "/usr/local/lib/python3.7/dist-packages/torch/utils/data/dataloader.py:481: UserWarning: This DataLoader will create 4 worker processes in total. Our suggested max number of worker in current system is 2, which is smaller than what this DataLoader is going to create. Please be aware that excessive worker creation might get DataLoader running slow or even freeze, lower the worker number to avoid potential slowness/freeze if necessary.\n",
            "  cpuset_checked))\n"
          ]
        },
        {
          "output_type": "stream",
          "name": "stdout",
          "text": [
            "Epoch 1 step 29 ave_loss 0.2912\n",
            "Epoch 1 step 59 ave_loss 0.2985\n",
            "Epoch 1 step 89 ave_loss 0.3033\n",
            "Epoch 1 step 119 ave_loss 0.2369\n",
            "Epoch 1 step 149 ave_loss 0.1704\n",
            "Epoch 1 step 179 ave_loss 0.1795\n",
            "Epoch 1 step 209 ave_loss 0.1971\n",
            "              precision    recall  f1-score   support\n",
            "\n",
            "          2C       0.71      0.93      0.81       409\n",
            "          3C       0.74      0.85      0.79       367\n",
            "          4C       1.00      0.78      0.88       831\n",
            "\n",
            "    accuracy                           0.84      1607\n",
            "   macro avg       0.82      0.86      0.83      1607\n",
            "weighted avg       0.87      0.84      0.84      1607\n",
            "\n"
          ]
        },
        {
          "output_type": "stream",
          "name": "stderr",
          "text": [
            "/usr/local/lib/python3.7/dist-packages/torch/utils/data/dataloader.py:481: UserWarning: This DataLoader will create 4 worker processes in total. Our suggested max number of worker in current system is 2, which is smaller than what this DataLoader is going to create. Please be aware that excessive worker creation might get DataLoader running slow or even freeze, lower the worker number to avoid potential slowness/freeze if necessary.\n",
            "  cpuset_checked))\n"
          ]
        },
        {
          "output_type": "stream",
          "name": "stdout",
          "text": [
            "Epoch 2 step 29 ave_loss 0.1454\n",
            "Epoch 2 step 59 ave_loss 0.1517\n",
            "Epoch 2 step 89 ave_loss 0.1445\n",
            "Epoch 2 step 119 ave_loss 0.1910\n",
            "Epoch 2 step 149 ave_loss 0.1118\n",
            "Epoch 2 step 179 ave_loss 0.1083\n",
            "Epoch 2 step 209 ave_loss 0.0842\n",
            "              precision    recall  f1-score   support\n",
            "\n",
            "          2C       0.81      0.76      0.78       409\n",
            "          3C       0.70      0.97      0.81       367\n",
            "          4C       0.97      0.84      0.90       831\n",
            "\n",
            "    accuracy                           0.85      1607\n",
            "   macro avg       0.83      0.86      0.83      1607\n",
            "weighted avg       0.87      0.85      0.85      1607\n",
            "\n"
          ]
        },
        {
          "output_type": "stream",
          "name": "stderr",
          "text": [
            "/usr/local/lib/python3.7/dist-packages/torch/utils/data/dataloader.py:481: UserWarning: This DataLoader will create 4 worker processes in total. Our suggested max number of worker in current system is 2, which is smaller than what this DataLoader is going to create. Please be aware that excessive worker creation might get DataLoader running slow or even freeze, lower the worker number to avoid potential slowness/freeze if necessary.\n",
            "  cpuset_checked))\n"
          ]
        },
        {
          "output_type": "stream",
          "name": "stdout",
          "text": [
            "Epoch 3 step 29 ave_loss 0.0646\n",
            "Epoch 3 step 59 ave_loss 0.0652\n",
            "Epoch 3 step 89 ave_loss 0.0878\n",
            "Epoch 3 step 119 ave_loss 0.0762\n",
            "Epoch 3 step 149 ave_loss 0.0956\n",
            "Epoch 3 step 179 ave_loss 0.1231\n",
            "Epoch 3 step 209 ave_loss 0.1171\n",
            "              precision    recall  f1-score   support\n",
            "\n",
            "          2C       0.77      0.62      0.69       409\n",
            "          3C       0.65      0.87      0.75       367\n",
            "          4C       1.00      0.95      0.97       831\n",
            "\n",
            "    accuracy                           0.85      1607\n",
            "   macro avg       0.81      0.81      0.80      1607\n",
            "weighted avg       0.86      0.85      0.85      1607\n",
            "\n"
          ]
        },
        {
          "output_type": "stream",
          "name": "stderr",
          "text": [
            "/usr/local/lib/python3.7/dist-packages/torch/utils/data/dataloader.py:481: UserWarning: This DataLoader will create 4 worker processes in total. Our suggested max number of worker in current system is 2, which is smaller than what this DataLoader is going to create. Please be aware that excessive worker creation might get DataLoader running slow or even freeze, lower the worker number to avoid potential slowness/freeze if necessary.\n",
            "  cpuset_checked))\n"
          ]
        },
        {
          "output_type": "stream",
          "name": "stdout",
          "text": [
            "Epoch 4 step 29 ave_loss 0.0829\n",
            "Epoch 4 step 59 ave_loss 0.0555\n",
            "Epoch 4 step 89 ave_loss 0.0996\n",
            "Epoch 4 step 119 ave_loss 0.0594\n",
            "Epoch 4 step 149 ave_loss 0.0684\n",
            "Epoch 4 step 179 ave_loss 0.0779\n",
            "Epoch 4 step 209 ave_loss 0.0324\n",
            "              precision    recall  f1-score   support\n",
            "\n",
            "          2C       0.87      0.89      0.88       409\n",
            "          3C       0.86      0.88      0.87       367\n",
            "          4C       0.98      0.97      0.98       831\n",
            "\n",
            "    accuracy                           0.93      1607\n",
            "   macro avg       0.91      0.91      0.91      1607\n",
            "weighted avg       0.93      0.93      0.93      1607\n",
            "\n"
          ]
        },
        {
          "output_type": "stream",
          "name": "stderr",
          "text": [
            "/usr/local/lib/python3.7/dist-packages/torch/utils/data/dataloader.py:481: UserWarning: This DataLoader will create 4 worker processes in total. Our suggested max number of worker in current system is 2, which is smaller than what this DataLoader is going to create. Please be aware that excessive worker creation might get DataLoader running slow or even freeze, lower the worker number to avoid potential slowness/freeze if necessary.\n",
            "  cpuset_checked))\n"
          ]
        },
        {
          "output_type": "stream",
          "name": "stdout",
          "text": [
            "Epoch 5 step 29 ave_loss 0.0517\n",
            "Epoch 5 step 59 ave_loss 0.0213\n",
            "Epoch 5 step 89 ave_loss 0.0251\n",
            "Epoch 5 step 119 ave_loss 0.0319\n",
            "Epoch 5 step 149 ave_loss 0.0173\n",
            "Epoch 5 step 179 ave_loss 0.0475\n",
            "Epoch 5 step 209 ave_loss 0.0120\n",
            "              precision    recall  f1-score   support\n",
            "\n",
            "          2C       0.83      0.85      0.84       409\n",
            "          3C       0.76      0.96      0.85       367\n",
            "          4C       0.99      0.87      0.93       831\n",
            "\n",
            "    accuracy                           0.88      1607\n",
            "   macro avg       0.86      0.89      0.87      1607\n",
            "weighted avg       0.90      0.88      0.89      1607\n",
            "\n"
          ]
        },
        {
          "output_type": "stream",
          "name": "stderr",
          "text": [
            "/usr/local/lib/python3.7/dist-packages/torch/utils/data/dataloader.py:481: UserWarning: This DataLoader will create 4 worker processes in total. Our suggested max number of worker in current system is 2, which is smaller than what this DataLoader is going to create. Please be aware that excessive worker creation might get DataLoader running slow or even freeze, lower the worker number to avoid potential slowness/freeze if necessary.\n",
            "  cpuset_checked))\n"
          ]
        },
        {
          "output_type": "stream",
          "name": "stdout",
          "text": [
            "Epoch 6 step 29 ave_loss 0.0133\n",
            "Epoch 6 step 59 ave_loss 0.0181\n",
            "Epoch 6 step 89 ave_loss 0.0450\n",
            "Epoch 6 step 119 ave_loss 0.0441\n",
            "Epoch 6 step 149 ave_loss 0.0197\n",
            "Epoch 6 step 179 ave_loss 0.0302\n",
            "Epoch 6 step 209 ave_loss 0.0482\n",
            "              precision    recall  f1-score   support\n",
            "\n",
            "          2C       0.75      0.87      0.81       409\n",
            "          3C       0.74      0.86      0.79       367\n",
            "          4C       0.93      0.80      0.86       831\n",
            "\n",
            "    accuracy                           0.83      1607\n",
            "   macro avg       0.81      0.84      0.82      1607\n",
            "weighted avg       0.84      0.83      0.83      1607\n",
            "\n"
          ]
        },
        {
          "output_type": "stream",
          "name": "stderr",
          "text": [
            "/usr/local/lib/python3.7/dist-packages/torch/utils/data/dataloader.py:481: UserWarning: This DataLoader will create 4 worker processes in total. Our suggested max number of worker in current system is 2, which is smaller than what this DataLoader is going to create. Please be aware that excessive worker creation might get DataLoader running slow or even freeze, lower the worker number to avoid potential slowness/freeze if necessary.\n",
            "  cpuset_checked))\n"
          ]
        },
        {
          "output_type": "stream",
          "name": "stdout",
          "text": [
            "Epoch 7 step 29 ave_loss 0.0421\n",
            "Epoch 7 step 59 ave_loss 0.0260\n",
            "Epoch 7 step 89 ave_loss 0.0492\n",
            "Epoch 7 step 119 ave_loss 0.0591\n",
            "Epoch 7 step 149 ave_loss 0.0190\n",
            "Epoch 7 step 179 ave_loss 0.0271\n",
            "Epoch 7 step 209 ave_loss 0.0195\n",
            "              precision    recall  f1-score   support\n",
            "\n",
            "          2C       0.72      0.66      0.69       409\n",
            "          3C       0.66      0.99      0.79       367\n",
            "          4C       1.00      0.82      0.90       831\n",
            "\n",
            "    accuracy                           0.82      1607\n",
            "   macro avg       0.79      0.82      0.79      1607\n",
            "weighted avg       0.85      0.82      0.82      1607\n",
            "\n"
          ]
        },
        {
          "output_type": "stream",
          "name": "stderr",
          "text": [
            "/usr/local/lib/python3.7/dist-packages/torch/utils/data/dataloader.py:481: UserWarning: This DataLoader will create 4 worker processes in total. Our suggested max number of worker in current system is 2, which is smaller than what this DataLoader is going to create. Please be aware that excessive worker creation might get DataLoader running slow or even freeze, lower the worker number to avoid potential slowness/freeze if necessary.\n",
            "  cpuset_checked))\n"
          ]
        },
        {
          "output_type": "stream",
          "name": "stdout",
          "text": [
            "Epoch 8 step 29 ave_loss 0.0157\n",
            "Epoch 8 step 59 ave_loss 0.0296\n",
            "Epoch 8 step 89 ave_loss 0.0272\n",
            "Epoch 8 step 119 ave_loss 0.0402\n",
            "Epoch 8 step 149 ave_loss 0.0327\n",
            "Epoch 8 step 179 ave_loss 0.0288\n",
            "Epoch 8 step 209 ave_loss 0.0102\n",
            "              precision    recall  f1-score   support\n",
            "\n",
            "          2C       0.90      0.79      0.85       409\n",
            "          3C       0.66      0.99      0.79       367\n",
            "          4C       0.99      0.83      0.90       831\n",
            "\n",
            "    accuracy                           0.86      1607\n",
            "   macro avg       0.85      0.87      0.84      1607\n",
            "weighted avg       0.89      0.86      0.86      1607\n",
            "\n"
          ]
        },
        {
          "output_type": "stream",
          "name": "stderr",
          "text": [
            "/usr/local/lib/python3.7/dist-packages/torch/utils/data/dataloader.py:481: UserWarning: This DataLoader will create 4 worker processes in total. Our suggested max number of worker in current system is 2, which is smaller than what this DataLoader is going to create. Please be aware that excessive worker creation might get DataLoader running slow or even freeze, lower the worker number to avoid potential slowness/freeze if necessary.\n",
            "  cpuset_checked))\n"
          ]
        },
        {
          "output_type": "stream",
          "name": "stdout",
          "text": [
            "Epoch 9 step 29 ave_loss 0.0114\n",
            "Epoch 9 step 59 ave_loss 0.0064\n",
            "Epoch 9 step 89 ave_loss 0.0115\n",
            "Epoch 9 step 119 ave_loss 0.0108\n",
            "Epoch 9 step 149 ave_loss 0.0135\n",
            "Epoch 9 step 179 ave_loss 0.0112\n",
            "Epoch 9 step 209 ave_loss 0.0092\n",
            "              precision    recall  f1-score   support\n",
            "\n",
            "          2C       0.85      0.90      0.87       409\n",
            "          3C       0.73      0.95      0.82       367\n",
            "          4C       0.99      0.84      0.91       831\n",
            "\n",
            "    accuracy                           0.88      1607\n",
            "   macro avg       0.86      0.89      0.87      1607\n",
            "weighted avg       0.90      0.88      0.88      1607\n",
            "\n"
          ]
        },
        {
          "output_type": "stream",
          "name": "stderr",
          "text": [
            "/usr/local/lib/python3.7/dist-packages/torch/utils/data/dataloader.py:481: UserWarning: This DataLoader will create 4 worker processes in total. Our suggested max number of worker in current system is 2, which is smaller than what this DataLoader is going to create. Please be aware that excessive worker creation might get DataLoader running slow or even freeze, lower the worker number to avoid potential slowness/freeze if necessary.\n",
            "  cpuset_checked))\n"
          ]
        },
        {
          "output_type": "stream",
          "name": "stdout",
          "text": [
            "Epoch 10 step 29 ave_loss 0.0340\n",
            "Epoch 10 step 59 ave_loss 0.0149\n",
            "Epoch 10 step 89 ave_loss 0.0086\n",
            "Epoch 10 step 119 ave_loss 0.0197\n",
            "Epoch 10 step 149 ave_loss 0.0159\n",
            "Epoch 10 step 179 ave_loss 0.0186\n",
            "Epoch 10 step 209 ave_loss 0.0168\n",
            "              precision    recall  f1-score   support\n",
            "\n",
            "          2C       0.78      0.89      0.83       409\n",
            "          3C       0.79      0.99      0.87       367\n",
            "          4C       1.00      0.81      0.89       831\n",
            "\n",
            "    accuracy                           0.87      1607\n",
            "   macro avg       0.85      0.90      0.87      1607\n",
            "weighted avg       0.89      0.87      0.87      1607\n",
            "\n"
          ]
        },
        {
          "output_type": "stream",
          "name": "stderr",
          "text": [
            "/usr/local/lib/python3.7/dist-packages/torch/utils/data/dataloader.py:481: UserWarning: This DataLoader will create 4 worker processes in total. Our suggested max number of worker in current system is 2, which is smaller than what this DataLoader is going to create. Please be aware that excessive worker creation might get DataLoader running slow or even freeze, lower the worker number to avoid potential slowness/freeze if necessary.\n",
            "  cpuset_checked))\n"
          ]
        },
        {
          "output_type": "stream",
          "name": "stdout",
          "text": [
            "Epoch 11 step 29 ave_loss 0.0089\n",
            "Epoch 11 step 59 ave_loss 0.0067\n",
            "Epoch 11 step 89 ave_loss 0.0096\n",
            "Epoch 11 step 119 ave_loss 0.0127\n",
            "Epoch 11 step 149 ave_loss 0.0153\n",
            "Epoch 11 step 179 ave_loss 0.0126\n",
            "Epoch 11 step 209 ave_loss 0.0176\n",
            "              precision    recall  f1-score   support\n",
            "\n",
            "          2C       0.89      0.77      0.83       409\n",
            "          3C       0.68      0.92      0.79       367\n",
            "          4C       0.94      0.86      0.90       831\n",
            "\n",
            "    accuracy                           0.85      1607\n",
            "   macro avg       0.84      0.85      0.84      1607\n",
            "weighted avg       0.87      0.85      0.85      1607\n",
            "\n"
          ]
        },
        {
          "output_type": "stream",
          "name": "stderr",
          "text": [
            "/usr/local/lib/python3.7/dist-packages/torch/utils/data/dataloader.py:481: UserWarning: This DataLoader will create 4 worker processes in total. Our suggested max number of worker in current system is 2, which is smaller than what this DataLoader is going to create. Please be aware that excessive worker creation might get DataLoader running slow or even freeze, lower the worker number to avoid potential slowness/freeze if necessary.\n",
            "  cpuset_checked))\n"
          ]
        },
        {
          "output_type": "stream",
          "name": "stdout",
          "text": [
            "Epoch 12 step 29 ave_loss 0.0093\n",
            "Epoch 12 step 59 ave_loss 0.0190\n",
            "Epoch 12 step 89 ave_loss 0.0371\n",
            "Epoch 12 step 119 ave_loss 0.0176\n",
            "Epoch 12 step 149 ave_loss 0.0070\n",
            "Epoch 12 step 179 ave_loss 0.0159\n",
            "Epoch 12 step 209 ave_loss 0.0102\n",
            "              precision    recall  f1-score   support\n",
            "\n",
            "          2C       0.63      0.86      0.73       409\n",
            "          3C       0.72      0.90      0.80       367\n",
            "          4C       1.00      0.70      0.82       831\n",
            "\n",
            "    accuracy                           0.79      1607\n",
            "   macro avg       0.78      0.82      0.78      1607\n",
            "weighted avg       0.84      0.79      0.79      1607\n",
            "\n"
          ]
        },
        {
          "output_type": "stream",
          "name": "stderr",
          "text": [
            "/usr/local/lib/python3.7/dist-packages/torch/utils/data/dataloader.py:481: UserWarning: This DataLoader will create 4 worker processes in total. Our suggested max number of worker in current system is 2, which is smaller than what this DataLoader is going to create. Please be aware that excessive worker creation might get DataLoader running slow or even freeze, lower the worker number to avoid potential slowness/freeze if necessary.\n",
            "  cpuset_checked))\n"
          ]
        },
        {
          "output_type": "stream",
          "name": "stdout",
          "text": [
            "Epoch 13 step 29 ave_loss 0.0067\n",
            "Epoch 13 step 59 ave_loss 0.0107\n",
            "Epoch 13 step 89 ave_loss 0.0147\n",
            "Epoch 13 step 119 ave_loss 0.0231\n",
            "Epoch 13 step 149 ave_loss 0.0070\n",
            "Epoch 13 step 179 ave_loss 0.0189\n",
            "Epoch 13 step 209 ave_loss 0.0209\n",
            "              precision    recall  f1-score   support\n",
            "\n",
            "          2C       0.87      0.72      0.79       409\n",
            "          3C       0.70      0.98      0.82       367\n",
            "          4C       0.97      0.88      0.92       831\n",
            "\n",
            "    accuracy                           0.86      1607\n",
            "   macro avg       0.85      0.86      0.84      1607\n",
            "weighted avg       0.88      0.86      0.86      1607\n",
            "\n"
          ]
        },
        {
          "output_type": "stream",
          "name": "stderr",
          "text": [
            "/usr/local/lib/python3.7/dist-packages/torch/utils/data/dataloader.py:481: UserWarning: This DataLoader will create 4 worker processes in total. Our suggested max number of worker in current system is 2, which is smaller than what this DataLoader is going to create. Please be aware that excessive worker creation might get DataLoader running slow or even freeze, lower the worker number to avoid potential slowness/freeze if necessary.\n",
            "  cpuset_checked))\n"
          ]
        },
        {
          "output_type": "stream",
          "name": "stdout",
          "text": [
            "Epoch 14 step 29 ave_loss 0.0130\n",
            "Epoch 14 step 59 ave_loss 0.0094\n",
            "Epoch 14 step 89 ave_loss 0.0152\n",
            "Epoch 14 step 119 ave_loss 0.0050\n",
            "Epoch 14 step 149 ave_loss 0.0220\n",
            "Epoch 14 step 179 ave_loss 0.0302\n",
            "Epoch 14 step 209 ave_loss 0.0262\n",
            "              precision    recall  f1-score   support\n",
            "\n",
            "          2C       0.74      0.78      0.76       409\n",
            "          3C       0.73      0.99      0.84       367\n",
            "          4C       1.00      0.83      0.91       831\n",
            "\n",
            "    accuracy                           0.85      1607\n",
            "   macro avg       0.83      0.86      0.84      1607\n",
            "weighted avg       0.87      0.85      0.85      1607\n",
            "\n"
          ]
        },
        {
          "output_type": "stream",
          "name": "stderr",
          "text": [
            "/usr/local/lib/python3.7/dist-packages/torch/utils/data/dataloader.py:481: UserWarning: This DataLoader will create 4 worker processes in total. Our suggested max number of worker in current system is 2, which is smaller than what this DataLoader is going to create. Please be aware that excessive worker creation might get DataLoader running slow or even freeze, lower the worker number to avoid potential slowness/freeze if necessary.\n",
            "  cpuset_checked))\n"
          ]
        },
        {
          "output_type": "stream",
          "name": "stdout",
          "text": [
            "Epoch 15 step 29 ave_loss 0.0061\n",
            "Epoch 15 step 59 ave_loss 0.0035\n",
            "Epoch 15 step 89 ave_loss 0.0015\n",
            "Epoch 15 step 119 ave_loss 0.0027\n",
            "Epoch 15 step 149 ave_loss 0.0024\n",
            "Epoch 15 step 179 ave_loss 0.0024\n",
            "Epoch 15 step 209 ave_loss 0.0022\n",
            "              precision    recall  f1-score   support\n",
            "\n",
            "          2C       0.64      0.96      0.77       409\n",
            "          3C       0.77      0.91      0.84       367\n",
            "          4C       1.00      0.67      0.81       831\n",
            "\n",
            "    accuracy                           0.80      1607\n",
            "   macro avg       0.80      0.85      0.80      1607\n",
            "weighted avg       0.86      0.80      0.80      1607\n",
            "\n"
          ]
        },
        {
          "output_type": "stream",
          "name": "stderr",
          "text": [
            "/usr/local/lib/python3.7/dist-packages/torch/utils/data/dataloader.py:481: UserWarning: This DataLoader will create 4 worker processes in total. Our suggested max number of worker in current system is 2, which is smaller than what this DataLoader is going to create. Please be aware that excessive worker creation might get DataLoader running slow or even freeze, lower the worker number to avoid potential slowness/freeze if necessary.\n",
            "  cpuset_checked))\n"
          ]
        },
        {
          "output_type": "stream",
          "name": "stdout",
          "text": [
            "Epoch 16 step 29 ave_loss 0.0012\n",
            "Epoch 16 step 59 ave_loss 0.0030\n",
            "Epoch 16 step 89 ave_loss 0.0048\n",
            "Epoch 16 step 119 ave_loss 0.0064\n",
            "Epoch 16 step 149 ave_loss 0.0218\n",
            "Epoch 16 step 179 ave_loss 0.0101\n",
            "Epoch 16 step 209 ave_loss 0.0056\n",
            "              precision    recall  f1-score   support\n",
            "\n",
            "          2C       0.93      0.70      0.80       409\n",
            "          3C       0.72      0.97      0.83       367\n",
            "          4C       0.98      0.95      0.97       831\n",
            "\n",
            "    accuracy                           0.89      1607\n",
            "   macro avg       0.88      0.87      0.86      1607\n",
            "weighted avg       0.91      0.89      0.89      1607\n",
            "\n"
          ]
        },
        {
          "output_type": "stream",
          "name": "stderr",
          "text": [
            "/usr/local/lib/python3.7/dist-packages/torch/utils/data/dataloader.py:481: UserWarning: This DataLoader will create 4 worker processes in total. Our suggested max number of worker in current system is 2, which is smaller than what this DataLoader is going to create. Please be aware that excessive worker creation might get DataLoader running slow or even freeze, lower the worker number to avoid potential slowness/freeze if necessary.\n",
            "  cpuset_checked))\n"
          ]
        },
        {
          "output_type": "stream",
          "name": "stdout",
          "text": [
            "Epoch 17 step 29 ave_loss 0.0035\n",
            "Epoch 17 step 59 ave_loss 0.0060\n",
            "Epoch 17 step 89 ave_loss 0.0182\n",
            "Epoch 17 step 119 ave_loss 0.0370\n",
            "Epoch 17 step 149 ave_loss 0.0140\n",
            "Epoch 17 step 179 ave_loss 0.0093\n",
            "Epoch 17 step 209 ave_loss 0.0040\n",
            "              precision    recall  f1-score   support\n",
            "\n",
            "          2C       0.77      0.99      0.87       409\n",
            "          3C       0.85      0.83      0.84       367\n",
            "          4C       1.00      0.87      0.93       831\n",
            "\n",
            "    accuracy                           0.89      1607\n",
            "   macro avg       0.87      0.90      0.88      1607\n",
            "weighted avg       0.91      0.89      0.89      1607\n",
            "\n"
          ]
        },
        {
          "output_type": "stream",
          "name": "stderr",
          "text": [
            "/usr/local/lib/python3.7/dist-packages/torch/utils/data/dataloader.py:481: UserWarning: This DataLoader will create 4 worker processes in total. Our suggested max number of worker in current system is 2, which is smaller than what this DataLoader is going to create. Please be aware that excessive worker creation might get DataLoader running slow or even freeze, lower the worker number to avoid potential slowness/freeze if necessary.\n",
            "  cpuset_checked))\n"
          ]
        },
        {
          "output_type": "stream",
          "name": "stdout",
          "text": [
            "Epoch 18 step 29 ave_loss 0.0029\n",
            "Epoch 18 step 59 ave_loss 0.0096\n",
            "Epoch 18 step 89 ave_loss 0.0188\n",
            "Epoch 18 step 119 ave_loss 0.0472\n",
            "Epoch 18 step 149 ave_loss 0.0066\n",
            "Epoch 18 step 179 ave_loss 0.0063\n",
            "Epoch 18 step 209 ave_loss 0.0039\n",
            "              precision    recall  f1-score   support\n",
            "\n",
            "          2C       0.81      0.86      0.84       409\n",
            "          3C       0.65      0.80      0.72       367\n",
            "          4C       0.99      0.86      0.92       831\n",
            "\n",
            "    accuracy                           0.85      1607\n",
            "   macro avg       0.82      0.84      0.82      1607\n",
            "weighted avg       0.87      0.85      0.85      1607\n",
            "\n"
          ]
        },
        {
          "output_type": "stream",
          "name": "stderr",
          "text": [
            "/usr/local/lib/python3.7/dist-packages/torch/utils/data/dataloader.py:481: UserWarning: This DataLoader will create 4 worker processes in total. Our suggested max number of worker in current system is 2, which is smaller than what this DataLoader is going to create. Please be aware that excessive worker creation might get DataLoader running slow or even freeze, lower the worker number to avoid potential slowness/freeze if necessary.\n",
            "  cpuset_checked))\n"
          ]
        },
        {
          "output_type": "stream",
          "name": "stdout",
          "text": [
            "Epoch 19 step 29 ave_loss 0.0031\n",
            "Epoch 19 step 59 ave_loss 0.0085\n",
            "Epoch 19 step 89 ave_loss 0.0019\n",
            "Epoch 19 step 119 ave_loss 0.0019\n",
            "Epoch 19 step 149 ave_loss 0.0051\n",
            "Epoch 19 step 179 ave_loss 0.0033\n",
            "Epoch 19 step 209 ave_loss 0.0024\n",
            "              precision    recall  f1-score   support\n",
            "\n",
            "          2C       0.66      0.96      0.78       409\n",
            "          3C       0.89      0.86      0.87       367\n",
            "          4C       1.00      0.79      0.88       831\n",
            "\n",
            "    accuracy                           0.85      1607\n",
            "   macro avg       0.85      0.87      0.85      1607\n",
            "weighted avg       0.89      0.85      0.86      1607\n",
            "\n"
          ]
        }
      ]
    },
    {
      "cell_type": "code",
      "metadata": {
        "id": "xP3vQB1rELaL"
      },
      "source": [
        "#VGG19 ảnh 224 raw: [44, 59, 69, 71, 71, 77, 73, 75, 75, 74, 76, 76, 78, 78, 79, 77, 82, 82, 73, 80]\n",
        "#VGG19 ảnh 224 có data augmentation: [51, 43, 46, 47, 45, 47, 58, 56, 52, 58, 64, 63, 69, 78, 76, 81, 78, 77, 82, 75]\n",
        "#VGG19 ảnh 224 có preprocess: [34, 37, 35, 38, 52, 63, 68, 65, 64, 62, 54, 66, 66, 64, 68, 68, 69, 68, 74, 76]\n",
        "#VGG19 ảnh 32 raw: [82, 76, 66, 78, 82, 85, 88, 85, 81, 89, 85, 89, 85, 89, 87, 89, 88, 88, 85, 87]\n",
        "#VGG19 ảnh 32 có data augmentation: [25, 55, 69, 50, 55, 75, 78, 54, 75, 73, 64, 75, 73, 78, 80, 73, 86, 80, 71, 74]\n",
        "#VGG19 ảnh 32 có preprocess: [23, 23, 40, 57, 78, 78, 87, 87, 89, 89, 89, 88, 85, 88, 85, 86, 83, 84, 86, 89]\n",
        "#VGG19 ảnh 64 raw: [25, 59, 77, 76, 85, 86, 76, 82, 86, 87, 80, 84, 86, 88, 88, 82, 81, 86, 88, 89]\n",
        "#VGG19 ảnh 64 có data augmentation: [20, 30, 43, 67, 74, 84, 75, 83, 77, 72, 74, 72, 76, 78, 70, 79, 79, 81, 83, 71]\n",
        "#VGG19 ảnh 64 có preprocess: [20, 30, 52, 24, 24, 29, 45, 41, 50, 60, 62, 76, 85, 80, 88, 81, 86, 77, 84, 80]\n",
        "\n",
        "#RESNET50 ảnh 224 raw: [65, 76, 78, 87, 83, 86, 73, 80, 88, 84, 77, 90, 81, 87, 89, 88, 86, 89, 89, 88]\n",
        "#RESNET50 ảnh 224 có data augmentation: [29, 62, 33, 72, 66, 73, 77, 80, 77, 75, 61, 82, 66, 77, 77, 76, 78, 75, 84, 74]\n",
        "#RESNET50 ảnh 224 có preprocess: [25, 53, 53, 81, 85, 81, 85, 84, 86, 82, 86, 86, 90, 87, 86, 88, 86, 91, 87, 81]\n",
        "#RESNET50 ảnh 32 raw: [76, 51, 71, 64, 70, 68, 82, 78, 79, 74, 79, 77, 81, 79, 81, 78, 79, 80, 77, 80]\n",
        "#RESNET50 ảnh 32 có data augmentation: [30, 24, 47, 52, 59, 63, 76, 66, 71, 74, 70, 71, 76, 78, 75, 73, 73, 76, 80, 80]\n",
        "#RESNET50 ảnh 32 có preprocess: [54, 58, 77, 49, 60, 52, 55, 51, 36, 77, 69, 73, 74, 78, 76, 82, 75, 73, 82, 81]\n",
        "#RESNET50 ảnh 64 raw: [87, 84, 82, 86, 85, 83, 85, 83, 79, 82, 80, 79, 84, 81, 84, 83, 83, 83, 83, 84]\n",
        "#RESNET50 ảnh 64 có data augmentation: [47, 78, 76, 77, 79, 77, 79, 78, 83, 80, 81, 79, 76, 78, 79, 79, 79, 78, 81, 82]\n",
        "#RESNET50 ảnh 64 có preprocess: [49, 68, 72, 70, 83, 92, 83, 85, 84, 90, 88, 87, 79, 91, 84, 86, 86, 86, 86, 84]\n",
        "\n",
        "#DENSENET121 ảnh 224 raw: [60, 83, 87, 86, 83, 85, 83, 75, 78, 81, 77, 77, 84, 74, 83, 81, 76, 81, 82, 84]\n",
        "#DENSENET121 ảnh 224 có data augmentation: [60, 76, 64, 72, 29, 77, 65, 81, 62, 84, 65, 75, 57, 67, 74, 78, 72, 66, 74, 85]\n",
        "#DENSENET121 ảnh 224 có preprocess: [65, 68, 66, 72, 88, 87, 83, 79, 84, 84, 89, 87, 77, 85, 71, 82, 82, 83, 85, 90]\n",
        "#DENSENET121 ảnh 32 raw: [91, 90, 92 ,93, 93, 92, 95, 97, 96, 96, 96, 96, 96, 97, 97, 96, 95, 95, 92, 97]\n",
        "#DENSENET121 ảnh 32 có data augmentation: [69, 88, 74, 79, 74, 74, 79, 81, 70, 83, 75, 71, 73, 87, 81, 70, 81, 72, 74, 75]\n",
        "#DENSENET121 ảnh 32 có preprocess: [67, 71, 71, 91, 68, 92, 87, 91, 79, 78, 95, 83, 85, 85, 82, 72, 84, 81, 84, 83]\n",
        "#DENSENET121 ảnh 64 raw: [91, 89, 88, 86, 91, 85, 90, 91, 88, 90, 88, 89, 89, 89, 90, 90, 91, 89, 89, 89]\n",
        "#DENSENET121 ảnh 64 có data augmentation: [59, 75, 67, 82, 83, 79, 85, 72, 90, 85, 85, 87, 86, 88, 87, 82, 86, 85, 88, 86]\n",
        "#DENSENET121 ảnh 64 có preprocess: [72, 84, 85, 85, 93, 88, 83, 82, 86, 88, 87, 85, 79, 86, 85, 80, 89, 89, 85, 85]"
      ],
      "execution_count": null,
      "outputs": []
    }
  ]
}